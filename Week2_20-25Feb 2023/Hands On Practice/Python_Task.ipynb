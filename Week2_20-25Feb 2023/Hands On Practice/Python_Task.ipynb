{
 "cells": [
  {
   "attachments": {},
   "cell_type": "markdown",
   "metadata": {},
   "source": [
    "Given an array of integers, find the sum of its elements.\n",
    "\tFor example, if the array ar = [1,2,3],\n",
    "                          Calculate 1+2+3 = 6, so return 6."
   ]
  },
  {
   "cell_type": "code",
   "execution_count": 4,
   "metadata": {},
   "outputs": [
    {
     "name": "stdout",
     "output_type": "stream",
     "text": [
      "The sum of the elements in the array is:   6\n"
     ]
    }
   ],
   "source": [
    "#Sum of elements of an array\n",
    "\n",
    "#Initialize the array\n",
    "ar = [1, 2, 3]  \n",
    "\n",
    "array_sum = 0\n",
    "\n",
    "for i in range(0,len(ar)):\n",
    "    array_sum += ar[i]\n",
    "\n",
    "print('The sum of the elements in the array is:  ', array_sum)"
   ]
  },
  {
   "attachments": {},
   "cell_type": "markdown",
   "metadata": {},
   "source": []
  }
 ],
 "metadata": {
  "kernelspec": {
   "display_name": "Python 3",
   "language": "python",
   "name": "python3"
  },
  "language_info": {
   "codemirror_mode": {
    "name": "ipython",
    "version": 3
   },
   "file_extension": ".py",
   "mimetype": "text/x-python",
   "name": "python",
   "nbconvert_exporter": "python",
   "pygments_lexer": "ipython3",
   "version": "3.11.1"
  },
  "orig_nbformat": 4,
  "vscode": {
   "interpreter": {
    "hash": "78568aafcec68be6fd0a8e6a30cb46b09d7cdbdec305ef4fe85a8bf88b94d20b"
   }
  }
 },
 "nbformat": 4,
 "nbformat_minor": 2
}
