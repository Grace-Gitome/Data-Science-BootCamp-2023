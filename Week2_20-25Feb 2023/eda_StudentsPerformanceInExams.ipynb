{
 "cells": [
  {
   "attachments": {},
   "cell_type": "markdown",
   "metadata": {},
   "source": [
    "## About Dataset\n",
    "This data set consists of the marks secured by the students in various subjects.\n",
    "\n",
    "Example Research Questions:\n",
    "\n",
    "How effective is the test preparation course? <br>\n",
    "Which major factors contribute to test outcomes?<br>\n",
    "What would be the best way to improve student scores on each test?<br>\n",
    "What patterns and interactions in the data can you find? <br>"
   ]
  },
  {
   "cell_type": "code",
   "execution_count": 26,
   "metadata": {},
   "outputs": [],
   "source": [
    "import pandas as pd\n",
    "import numpy as np\n",
    "import seaborn as sns\n",
    "import matplotlib.pyplot as plt\n",
    "\n",
    "import scipy.stats"
   ]
  },
  {
   "cell_type": "code",
   "execution_count": 3,
   "metadata": {},
   "outputs": [],
   "source": [
    "df = pd.read_csv('Data/exams.csv')"
   ]
  },
  {
   "attachments": {},
   "cell_type": "markdown",
   "metadata": {},
   "source": [
    "#### 1. Understanding the dataset"
   ]
  },
  {
   "cell_type": "code",
   "execution_count": 4,
   "metadata": {},
   "outputs": [
    {
     "data": {
      "text/html": [
       "<div>\n",
       "<style scoped>\n",
       "    .dataframe tbody tr th:only-of-type {\n",
       "        vertical-align: middle;\n",
       "    }\n",
       "\n",
       "    .dataframe tbody tr th {\n",
       "        vertical-align: top;\n",
       "    }\n",
       "\n",
       "    .dataframe thead th {\n",
       "        text-align: right;\n",
       "    }\n",
       "</style>\n",
       "<table border=\"1\" class=\"dataframe\">\n",
       "  <thead>\n",
       "    <tr style=\"text-align: right;\">\n",
       "      <th></th>\n",
       "      <th>gender</th>\n",
       "      <th>race/ethnicity</th>\n",
       "      <th>parental level of education</th>\n",
       "      <th>lunch</th>\n",
       "      <th>test preparation course</th>\n",
       "      <th>math score</th>\n",
       "      <th>reading score</th>\n",
       "      <th>writing score</th>\n",
       "    </tr>\n",
       "  </thead>\n",
       "  <tbody>\n",
       "    <tr>\n",
       "      <th>0</th>\n",
       "      <td>male</td>\n",
       "      <td>group A</td>\n",
       "      <td>high school</td>\n",
       "      <td>standard</td>\n",
       "      <td>completed</td>\n",
       "      <td>67</td>\n",
       "      <td>67</td>\n",
       "      <td>63</td>\n",
       "    </tr>\n",
       "    <tr>\n",
       "      <th>1</th>\n",
       "      <td>female</td>\n",
       "      <td>group D</td>\n",
       "      <td>some high school</td>\n",
       "      <td>free/reduced</td>\n",
       "      <td>none</td>\n",
       "      <td>40</td>\n",
       "      <td>59</td>\n",
       "      <td>55</td>\n",
       "    </tr>\n",
       "    <tr>\n",
       "      <th>2</th>\n",
       "      <td>male</td>\n",
       "      <td>group E</td>\n",
       "      <td>some college</td>\n",
       "      <td>free/reduced</td>\n",
       "      <td>none</td>\n",
       "      <td>59</td>\n",
       "      <td>60</td>\n",
       "      <td>50</td>\n",
       "    </tr>\n",
       "    <tr>\n",
       "      <th>3</th>\n",
       "      <td>male</td>\n",
       "      <td>group B</td>\n",
       "      <td>high school</td>\n",
       "      <td>standard</td>\n",
       "      <td>none</td>\n",
       "      <td>77</td>\n",
       "      <td>78</td>\n",
       "      <td>68</td>\n",
       "    </tr>\n",
       "    <tr>\n",
       "      <th>4</th>\n",
       "      <td>male</td>\n",
       "      <td>group E</td>\n",
       "      <td>associate's degree</td>\n",
       "      <td>standard</td>\n",
       "      <td>completed</td>\n",
       "      <td>78</td>\n",
       "      <td>73</td>\n",
       "      <td>68</td>\n",
       "    </tr>\n",
       "  </tbody>\n",
       "</table>\n",
       "</div>"
      ],
      "text/plain": [
       "   gender race/ethnicity parental level of education         lunch  \\\n",
       "0    male        group A                 high school      standard   \n",
       "1  female        group D            some high school  free/reduced   \n",
       "2    male        group E                some college  free/reduced   \n",
       "3    male        group B                 high school      standard   \n",
       "4    male        group E          associate's degree      standard   \n",
       "\n",
       "  test preparation course  math score  reading score  writing score  \n",
       "0               completed          67             67             63  \n",
       "1                    none          40             59             55  \n",
       "2                    none          59             60             50  \n",
       "3                    none          77             78             68  \n",
       "4               completed          78             73             68  "
      ]
     },
     "execution_count": 4,
     "metadata": {},
     "output_type": "execute_result"
    }
   ],
   "source": [
    "df.head()"
   ]
  },
  {
   "cell_type": "code",
   "execution_count": 5,
   "metadata": {},
   "outputs": [
    {
     "data": {
      "text/html": [
       "<div>\n",
       "<style scoped>\n",
       "    .dataframe tbody tr th:only-of-type {\n",
       "        vertical-align: middle;\n",
       "    }\n",
       "\n",
       "    .dataframe tbody tr th {\n",
       "        vertical-align: top;\n",
       "    }\n",
       "\n",
       "    .dataframe thead th {\n",
       "        text-align: right;\n",
       "    }\n",
       "</style>\n",
       "<table border=\"1\" class=\"dataframe\">\n",
       "  <thead>\n",
       "    <tr style=\"text-align: right;\">\n",
       "      <th></th>\n",
       "      <th>gender</th>\n",
       "      <th>race/ethnicity</th>\n",
       "      <th>parental level of education</th>\n",
       "      <th>lunch</th>\n",
       "      <th>test preparation course</th>\n",
       "      <th>math score</th>\n",
       "      <th>reading score</th>\n",
       "      <th>writing score</th>\n",
       "    </tr>\n",
       "  </thead>\n",
       "  <tbody>\n",
       "    <tr>\n",
       "      <th>995</th>\n",
       "      <td>male</td>\n",
       "      <td>group C</td>\n",
       "      <td>high school</td>\n",
       "      <td>standard</td>\n",
       "      <td>none</td>\n",
       "      <td>73</td>\n",
       "      <td>70</td>\n",
       "      <td>65</td>\n",
       "    </tr>\n",
       "    <tr>\n",
       "      <th>996</th>\n",
       "      <td>male</td>\n",
       "      <td>group D</td>\n",
       "      <td>associate's degree</td>\n",
       "      <td>free/reduced</td>\n",
       "      <td>completed</td>\n",
       "      <td>85</td>\n",
       "      <td>91</td>\n",
       "      <td>92</td>\n",
       "    </tr>\n",
       "    <tr>\n",
       "      <th>997</th>\n",
       "      <td>female</td>\n",
       "      <td>group C</td>\n",
       "      <td>some high school</td>\n",
       "      <td>free/reduced</td>\n",
       "      <td>none</td>\n",
       "      <td>32</td>\n",
       "      <td>35</td>\n",
       "      <td>41</td>\n",
       "    </tr>\n",
       "    <tr>\n",
       "      <th>998</th>\n",
       "      <td>female</td>\n",
       "      <td>group C</td>\n",
       "      <td>some college</td>\n",
       "      <td>standard</td>\n",
       "      <td>none</td>\n",
       "      <td>73</td>\n",
       "      <td>74</td>\n",
       "      <td>82</td>\n",
       "    </tr>\n",
       "    <tr>\n",
       "      <th>999</th>\n",
       "      <td>male</td>\n",
       "      <td>group A</td>\n",
       "      <td>some college</td>\n",
       "      <td>standard</td>\n",
       "      <td>completed</td>\n",
       "      <td>65</td>\n",
       "      <td>60</td>\n",
       "      <td>62</td>\n",
       "    </tr>\n",
       "  </tbody>\n",
       "</table>\n",
       "</div>"
      ],
      "text/plain": [
       "     gender race/ethnicity parental level of education         lunch  \\\n",
       "995    male        group C                 high school      standard   \n",
       "996    male        group D          associate's degree  free/reduced   \n",
       "997  female        group C            some high school  free/reduced   \n",
       "998  female        group C                some college      standard   \n",
       "999    male        group A                some college      standard   \n",
       "\n",
       "    test preparation course  math score  reading score  writing score  \n",
       "995                    none          73             70             65  \n",
       "996               completed          85             91             92  \n",
       "997                    none          32             35             41  \n",
       "998                    none          73             74             82  \n",
       "999               completed          65             60             62  "
      ]
     },
     "execution_count": 5,
     "metadata": {},
     "output_type": "execute_result"
    }
   ],
   "source": [
    "df.tail()"
   ]
  },
  {
   "cell_type": "code",
   "execution_count": 6,
   "metadata": {},
   "outputs": [
    {
     "data": {
      "text/plain": [
       "(1000, 8)"
      ]
     },
     "execution_count": 6,
     "metadata": {},
     "output_type": "execute_result"
    }
   ],
   "source": [
    "df.shape"
   ]
  },
  {
   "attachments": {},
   "cell_type": "markdown",
   "metadata": {},
   "source": [
    "There are 1000 observations (rows) and 8 characteristics( columns)"
   ]
  },
  {
   "cell_type": "code",
   "execution_count": 7,
   "metadata": {},
   "outputs": [
    {
     "name": "stdout",
     "output_type": "stream",
     "text": [
      "<class 'pandas.core.frame.DataFrame'>\n",
      "RangeIndex: 1000 entries, 0 to 999\n",
      "Data columns (total 8 columns):\n",
      " #   Column                       Non-Null Count  Dtype \n",
      "---  ------                       --------------  ----- \n",
      " 0   gender                       1000 non-null   object\n",
      " 1   race/ethnicity               1000 non-null   object\n",
      " 2   parental level of education  1000 non-null   object\n",
      " 3   lunch                        1000 non-null   object\n",
      " 4   test preparation course      1000 non-null   object\n",
      " 5   math score                   1000 non-null   int64 \n",
      " 6   reading score                1000 non-null   int64 \n",
      " 7   writing score                1000 non-null   int64 \n",
      "dtypes: int64(3), object(5)\n",
      "memory usage: 62.6+ KB\n"
     ]
    }
   ],
   "source": [
    "df.info()"
   ]
  },
  {
   "attachments": {},
   "cell_type": "markdown",
   "metadata": {},
   "source": [
    "There are 5 categorical columns and 3 numerical columns"
   ]
  },
  {
   "cell_type": "code",
   "execution_count": 8,
   "metadata": {},
   "outputs": [
    {
     "data": {
      "text/plain": [
       "Index(['gender', 'race/ethnicity', 'parental level of education', 'lunch',\n",
       "       'test preparation course', 'math score', 'reading score',\n",
       "       'writing score'],\n",
       "      dtype='object')"
      ]
     },
     "execution_count": 8,
     "metadata": {},
     "output_type": "execute_result"
    }
   ],
   "source": [
    "#check the columns in the dataset\n",
    "df.columns"
   ]
  },
  {
   "cell_type": "code",
   "execution_count": 9,
   "metadata": {},
   "outputs": [
    {
     "data": {
      "text/html": [
       "<div>\n",
       "<style scoped>\n",
       "    .dataframe tbody tr th:only-of-type {\n",
       "        vertical-align: middle;\n",
       "    }\n",
       "\n",
       "    .dataframe tbody tr th {\n",
       "        vertical-align: top;\n",
       "    }\n",
       "\n",
       "    .dataframe thead th {\n",
       "        text-align: right;\n",
       "    }\n",
       "</style>\n",
       "<table border=\"1\" class=\"dataframe\">\n",
       "  <thead>\n",
       "    <tr style=\"text-align: right;\">\n",
       "      <th></th>\n",
       "      <th>count</th>\n",
       "      <th>mean</th>\n",
       "      <th>std</th>\n",
       "      <th>min</th>\n",
       "      <th>25%</th>\n",
       "      <th>50%</th>\n",
       "      <th>75%</th>\n",
       "      <th>max</th>\n",
       "    </tr>\n",
       "  </thead>\n",
       "  <tbody>\n",
       "    <tr>\n",
       "      <th>math score</th>\n",
       "      <td>1000.0</td>\n",
       "      <td>66.396</td>\n",
       "      <td>15.402871</td>\n",
       "      <td>13.0</td>\n",
       "      <td>56.0</td>\n",
       "      <td>66.5</td>\n",
       "      <td>77.0</td>\n",
       "      <td>100.0</td>\n",
       "    </tr>\n",
       "    <tr>\n",
       "      <th>reading score</th>\n",
       "      <td>1000.0</td>\n",
       "      <td>69.002</td>\n",
       "      <td>14.737272</td>\n",
       "      <td>27.0</td>\n",
       "      <td>60.0</td>\n",
       "      <td>70.0</td>\n",
       "      <td>79.0</td>\n",
       "      <td>100.0</td>\n",
       "    </tr>\n",
       "    <tr>\n",
       "      <th>writing score</th>\n",
       "      <td>1000.0</td>\n",
       "      <td>67.738</td>\n",
       "      <td>15.600985</td>\n",
       "      <td>23.0</td>\n",
       "      <td>58.0</td>\n",
       "      <td>68.0</td>\n",
       "      <td>79.0</td>\n",
       "      <td>100.0</td>\n",
       "    </tr>\n",
       "  </tbody>\n",
       "</table>\n",
       "</div>"
      ],
      "text/plain": [
       "                count    mean        std   min   25%   50%   75%    max\n",
       "math score     1000.0  66.396  15.402871  13.0  56.0  66.5  77.0  100.0\n",
       "reading score  1000.0  69.002  14.737272  27.0  60.0  70.0  79.0  100.0\n",
       "writing score  1000.0  67.738  15.600985  23.0  58.0  68.0  79.0  100.0"
      ]
     },
     "execution_count": 9,
     "metadata": {},
     "output_type": "execute_result"
    }
   ],
   "source": [
    "#Check the statistical characterisitic of the numerical variables\n",
    "df.describe().transpose()"
   ]
  },
  {
   "cell_type": "code",
   "execution_count": 10,
   "metadata": {},
   "outputs": [
    {
     "data": {
      "text/plain": [
       "gender                          2\n",
       "race/ethnicity                  5\n",
       "parental level of education     6\n",
       "lunch                           2\n",
       "test preparation course         2\n",
       "math score                     77\n",
       "reading score                  73\n",
       "writing score                  76\n",
       "dtype: int64"
      ]
     },
     "execution_count": 10,
     "metadata": {},
     "output_type": "execute_result"
    }
   ],
   "source": [
    "#Check for the unique values\n",
    "df.nunique()"
   ]
  },
  {
   "cell_type": "code",
   "execution_count": 11,
   "metadata": {},
   "outputs": [
    {
     "data": {
      "text/plain": [
       "2"
      ]
     },
     "execution_count": 11,
     "metadata": {},
     "output_type": "execute_result"
    }
   ],
   "source": [
    "#To check for distinct values in a specific column:\n",
    "df['gender'].nunique()"
   ]
  },
  {
   "cell_type": "code",
   "execution_count": 12,
   "metadata": {},
   "outputs": [
    {
     "data": {
      "text/plain": [
       "6"
      ]
     },
     "execution_count": 12,
     "metadata": {},
     "output_type": "execute_result"
    }
   ],
   "source": [
    "df['parental level of education'].nunique()"
   ]
  },
  {
   "attachments": {},
   "cell_type": "markdown",
   "metadata": {},
   "source": [
    "#### 2. Cleaning the data"
   ]
  },
  {
   "cell_type": "code",
   "execution_count": 13,
   "metadata": {},
   "outputs": [
    {
     "data": {
      "text/plain": [
       "gender                         0\n",
       "race/ethnicity                 0\n",
       "parental level of education    0\n",
       "lunch                          0\n",
       "test preparation course        0\n",
       "math score                     0\n",
       "reading score                  0\n",
       "writing score                  0\n",
       "dtype: int64"
      ]
     },
     "execution_count": 13,
     "metadata": {},
     "output_type": "execute_result"
    }
   ],
   "source": [
    "#Check for nulls\n",
    "df.isnull().sum()"
   ]
  },
  {
   "attachments": {},
   "cell_type": "markdown",
   "metadata": {},
   "source": [
    "The data is clean, there are no null values"
   ]
  },
  {
   "cell_type": "code",
   "execution_count": 19,
   "metadata": {},
   "outputs": [
    {
     "data": {
      "text/html": [
       "<div>\n",
       "<style scoped>\n",
       "    .dataframe tbody tr th:only-of-type {\n",
       "        vertical-align: middle;\n",
       "    }\n",
       "\n",
       "    .dataframe tbody tr th {\n",
       "        vertical-align: top;\n",
       "    }\n",
       "\n",
       "    .dataframe thead th {\n",
       "        text-align: right;\n",
       "    }\n",
       "</style>\n",
       "<table border=\"1\" class=\"dataframe\">\n",
       "  <thead>\n",
       "    <tr style=\"text-align: right;\">\n",
       "      <th></th>\n",
       "      <th>gender</th>\n",
       "      <th>lunch</th>\n",
       "      <th>test preparation course</th>\n",
       "      <th>math score</th>\n",
       "      <th>reading score</th>\n",
       "      <th>writing score</th>\n",
       "    </tr>\n",
       "  </thead>\n",
       "  <tbody>\n",
       "    <tr>\n",
       "      <th>0</th>\n",
       "      <td>male</td>\n",
       "      <td>standard</td>\n",
       "      <td>completed</td>\n",
       "      <td>67</td>\n",
       "      <td>67</td>\n",
       "      <td>63</td>\n",
       "    </tr>\n",
       "    <tr>\n",
       "      <th>1</th>\n",
       "      <td>female</td>\n",
       "      <td>free/reduced</td>\n",
       "      <td>none</td>\n",
       "      <td>40</td>\n",
       "      <td>59</td>\n",
       "      <td>55</td>\n",
       "    </tr>\n",
       "    <tr>\n",
       "      <th>2</th>\n",
       "      <td>male</td>\n",
       "      <td>free/reduced</td>\n",
       "      <td>none</td>\n",
       "      <td>59</td>\n",
       "      <td>60</td>\n",
       "      <td>50</td>\n",
       "    </tr>\n",
       "    <tr>\n",
       "      <th>3</th>\n",
       "      <td>male</td>\n",
       "      <td>standard</td>\n",
       "      <td>none</td>\n",
       "      <td>77</td>\n",
       "      <td>78</td>\n",
       "      <td>68</td>\n",
       "    </tr>\n",
       "    <tr>\n",
       "      <th>4</th>\n",
       "      <td>male</td>\n",
       "      <td>standard</td>\n",
       "      <td>completed</td>\n",
       "      <td>78</td>\n",
       "      <td>73</td>\n",
       "      <td>68</td>\n",
       "    </tr>\n",
       "  </tbody>\n",
       "</table>\n",
       "</div>"
      ],
      "text/plain": [
       "   gender         lunch test preparation course  math score  reading score  \\\n",
       "0    male      standard               completed          67             67   \n",
       "1  female  free/reduced                    none          40             59   \n",
       "2    male  free/reduced                    none          59             60   \n",
       "3    male      standard                    none          77             78   \n",
       "4    male      standard               completed          78             73   \n",
       "\n",
       "   writing score  \n",
       "0             63  \n",
       "1             55  \n",
       "2             50  \n",
       "3             68  \n",
       "4             68  "
      ]
     },
     "execution_count": 19,
     "metadata": {},
     "output_type": "execute_result"
    }
   ],
   "source": [
    "# drop unnecessary columns for the analysis\n",
    "df1 = df.drop(['race/ethnicity', 'parental level of education'], axis = 1)\n",
    "df1.head()"
   ]
  },
  {
   "attachments": {},
   "cell_type": "markdown",
   "metadata": {},
   "source": [
    "#### 3. Analyze the relationship between the variables"
   ]
  },
  {
   "cell_type": "code",
   "execution_count": 22,
   "metadata": {},
   "outputs": [
    {
     "data": {
      "text/html": [
       "<div>\n",
       "<style scoped>\n",
       "    .dataframe tbody tr th:only-of-type {\n",
       "        vertical-align: middle;\n",
       "    }\n",
       "\n",
       "    .dataframe tbody tr th {\n",
       "        vertical-align: top;\n",
       "    }\n",
       "\n",
       "    .dataframe thead th {\n",
       "        text-align: right;\n",
       "    }\n",
       "</style>\n",
       "<table border=\"1\" class=\"dataframe\">\n",
       "  <thead>\n",
       "    <tr style=\"text-align: right;\">\n",
       "      <th></th>\n",
       "      <th>math score</th>\n",
       "      <th>reading score</th>\n",
       "      <th>writing score</th>\n",
       "    </tr>\n",
       "  </thead>\n",
       "  <tbody>\n",
       "    <tr>\n",
       "      <th>math score</th>\n",
       "      <td>1.000000</td>\n",
       "      <td>0.819398</td>\n",
       "      <td>0.805944</td>\n",
       "    </tr>\n",
       "    <tr>\n",
       "      <th>reading score</th>\n",
       "      <td>0.819398</td>\n",
       "      <td>1.000000</td>\n",
       "      <td>0.954274</td>\n",
       "    </tr>\n",
       "    <tr>\n",
       "      <th>writing score</th>\n",
       "      <td>0.805944</td>\n",
       "      <td>0.954274</td>\n",
       "      <td>1.000000</td>\n",
       "    </tr>\n",
       "  </tbody>\n",
       "</table>\n",
       "</div>"
      ],
      "text/plain": [
       "               math score  reading score  writing score\n",
       "math score       1.000000       0.819398       0.805944\n",
       "reading score    0.819398       1.000000       0.954274\n",
       "writing score    0.805944       0.954274       1.000000"
      ]
     },
     "execution_count": 22,
     "metadata": {},
     "output_type": "execute_result"
    }
   ],
   "source": [
    "df1.corr(numeric_only= True)"
   ]
  },
  {
   "cell_type": "code",
   "execution_count": 27,
   "metadata": {},
   "outputs": [
    {
     "data": {
      "image/png": "[encoded data removed]",
      "text/plain": [
       "<Figure size 640x480 with 2 Axes>"
      ]
     },
     "metadata": {},
     "output_type": "display_data"
    }
   ],
   "source": [
    "# plotting correlation heatmap\n",
    "dataplot = sns.heatmap(df1.corr(numeric_only = True), cmap=\"YlGnBu\", annot=True)\n",
    "  \n",
    "# displaying heatmap\n",
    "plt.show()"
   ]
  },
  {
   "attachments": {},
   "cell_type": "markdown",
   "metadata": {},
   "source": [
    "The values are highly correlated"
   ]
  },
  {
   "cell_type": "code",
   "execution_count": 33,
   "metadata": {},
   "outputs": [
    {
     "data": {
      "text/plain": [
       "<seaborn.axisgrid.PairGrid at 0x1dbd6527a10>"
      ]
     },
     "execution_count": 33,
     "metadata": {},
     "output_type": "execute_result"
    },
    {
     "data": {
      "image/png": "[encoded data removed]",
      "text/plain": [
       "<Figure size 750x750 with 12 Axes>"
      ]
     },
     "metadata": {},
     "output_type": "display_data"
    }
   ],
   "source": [
    "sns.pairplot(df1)"
   ]
  },
  {
   "cell_type": "code",
   "execution_count": 37,
   "metadata": {},
   "outputs": [
    {
     "data": {
      "text/plain": [
       "<Axes: xlabel='math score', ylabel='reading score'>"
      ]
     },
     "execution_count": 37,
     "metadata": {},
     "output_type": "execute_result"
    },
    {
     "data": {
      "image/png": "[encoded data removed]",
      "text/plain": [
       "<Figure size 640x480 with 1 Axes>"
      ]
     },
     "metadata": {},
     "output_type": "display_data"
    }
   ],
   "source": [
    "sns.scatterplot( x = 'math score', y= 'reading score', hue='gender', data = df)"
   ]
  },
  {
   "attachments": {},
   "cell_type": "markdown",
   "metadata": {},
   "source": [
    "Interpretation:\n",
    "The female students performace is better than males."
   ]
  },
  {
   "cell_type": "code",
   "execution_count": 41,
   "metadata": {},
   "outputs": [
    {
     "data": {
      "text/plain": [
       "<Axes: xlabel='math score', ylabel='reading score'>"
      ]
     },
     "execution_count": 41,
     "metadata": {},
     "output_type": "execute_result"
    },
    {
     "data": {
      "image/png": "[encoded data removed]",
      "text/plain": [
       "<Figure size 640x480 with 1 Axes>"
      ]
     },
     "metadata": {},
     "output_type": "display_data"
    }
   ],
   "source": [
    "sns.scatterplot( x = 'math score', y= 'reading score', hue='lunch', data = df)"
   ]
  },
  {
   "cell_type": "code",
   "execution_count": 44,
   "metadata": {},
   "outputs": [
    {
     "data": {
      "text/plain": [
       "<Axes: xlabel='math score', ylabel='reading score'>"
      ]
     },
     "execution_count": 44,
     "metadata": {},
     "output_type": "execute_result"
    },
    {
     "data": {
      "image/png": "[encoded data removed]",
      "text/plain": [
       "<Figure size 640x480 with 1 Axes>"
      ]
     },
     "metadata": {},
     "output_type": "display_data"
    }
   ],
   "source": [
    "sns.scatterplot( x = 'math score', y= 'reading score', hue='test preparation course', data = df)"
   ]
  },
  {
   "cell_type": "code",
   "execution_count": 38,
   "metadata": {},
   "outputs": [
    {
     "data": {
      "text/plain": [
       "Index(['gender', 'race/ethnicity', 'parental level of education', 'lunch',\n",
       "       'test preparation course', 'math score', 'reading score',\n",
       "       'writing score'],\n",
       "      dtype='object')"
      ]
     },
     "execution_count": 38,
     "metadata": {},
     "output_type": "execute_result"
    }
   ],
   "source": [
    "df.columns"
   ]
  },
  {
   "cell_type": "code",
   "execution_count": 55,
   "metadata": {},
   "outputs": [
    {
     "data": {
      "application/vnd.plotly.v1+json": {
       "config": {
        "plotlyServerURL": "https://plot.ly"
       },
       "data": [
        {
         "alignmentgroup": "True",
         "bingroup": "x",
         "hovertemplate": "variable=math score<br>value=%{x}<br>count=%{y}<extra></extra>",
         "legendgroup": "math score",
         "marker": {
          "color": "#636efa",
          "pattern": {
           "shape": ""
          }
         },
         "name": "math score",
         "offsetgroup": "math score",
         "orientation": "v",
         "showlegend": true,
         "type": "histogram",
         "x": [
          67,
          40,
          59,
          77,
          78,
          63,
          62,
          93,
          63,
          47,
          99,
          80,
          77,
          74,
          81,
          69,
          58,
          54,
          23,
          39,
          83,
          58,
          71,
          44,
          46,
          51,
          53,
          71,
          74,
          33,
          87,
          78,
          40,
          65,
          79,
          68,
          57,
          67,
          58,
          98,
          54,
          77,
          87,
          58,
          100,
          60,
          64,
          65,
          68,
          60,
          65,
          52,
          74,
          36,
          57,
          56,
          67,
          88,
          42,
          68,
          76,
          58,
          69,
          77,
          83,
          49,
          71,
          47,
          79,
          60,
          56,
          57,
          49,
          79,
          71,
          71,
          47,
          72,
          78,
          54,
          46,
          31,
          51,
          78,
          32,
          53,
          63,
          97,
          56,
          72,
          57,
          74,
          81,
          94,
          81,
          58,
          95,
          45,
          63,
          60,
          54,
          75,
          79,
          66,
          47,
          70,
          82,
          56,
          92,
          30,
          79,
          41,
          63,
          43,
          77,
          76,
          49,
          59,
          59,
          76,
          55,
          78,
          51,
          41,
          74,
          62,
          77,
          45,
          100,
          83,
          77,
          66,
          65,
          62,
          55,
          73,
          73,
          48,
          52,
          60,
          68,
          65,
          86,
          55,
          80,
          51,
          63,
          60,
          100,
          46,
          67,
          54,
          63,
          68,
          54,
          43,
          64,
          92,
          82,
          84,
          84,
          65,
          83,
          70,
          66,
          71,
          66,
          57,
          86,
          80,
          62,
          71,
          57,
          69,
          83,
          50,
          55,
          55,
          83,
          89,
          51,
          48,
          84,
          69,
          75,
          91,
          76,
          63,
          73,
          52,
          58,
          33,
          68,
          77,
          64,
          39,
          50,
          53,
          54,
          74,
          50,
          55,
          77,
          49,
          66,
          77,
          74,
          85,
          77,
          64,
          61,
          97,
          66,
          62,
          64,
          55,
          53,
          71,
          66,
          68,
          89,
          65,
          43,
          79,
          99,
          82,
          35,
          61,
          76,
          94,
          75,
          81,
          35,
          76,
          58,
          100,
          53,
          82,
          76,
          83,
          72,
          76,
          66,
          63,
          36,
          68,
          40,
          68,
          56,
          74,
          53,
          88,
          67,
          60,
          51,
          53,
          80,
          69,
          64,
          80,
          58,
          39,
          64,
          61,
          90,
          73,
          73,
          67,
          57,
          65,
          71,
          59,
          74,
          93,
          85,
          76,
          58,
          72,
          40,
          75,
          85,
          100,
          53,
          40,
          49,
          77,
          82,
          55,
          62,
          69,
          78,
          71,
          59,
          60,
          43,
          77,
          50,
          56,
          69,
          47,
          43,
          48,
          55,
          73,
          71,
          54,
          66,
          63,
          66,
          79,
          73,
          36,
          50,
          87,
          71,
          85,
          58,
          86,
          64,
          83,
          58,
          59,
          40,
          82,
          87,
          62,
          76,
          63,
          58,
          61,
          78,
          78,
          56,
          96,
          48,
          70,
          43,
          45,
          58,
          70,
          60,
          52,
          61,
          55,
          80,
          63,
          79,
          74,
          46,
          72,
          58,
          47,
          68,
          68,
          65,
          50,
          48,
          58,
          71,
          58,
          66,
          44,
          51,
          78,
          72,
          60,
          55,
          64,
          57,
          70,
          84,
          66,
          56,
          59,
          87,
          73,
          85,
          49,
          82,
          80,
          48,
          85,
          70,
          89,
          72,
          80,
          43,
          54,
          82,
          74,
          63,
          47,
          13,
          67,
          57,
          64,
          85,
          70,
          90,
          53,
          74,
          61,
          55,
          65,
          77,
          74,
          94,
          54,
          52,
          73,
          81,
          62,
          55,
          55,
          61,
          75,
          79,
          70,
          72,
          38,
          57,
          76,
          45,
          77,
          40,
          78,
          63,
          83,
          55,
          88,
          82,
          86,
          61,
          78,
          67,
          83,
          68,
          53,
          91,
          67,
          53,
          86,
          75,
          55,
          93,
          62,
          83,
          73,
          57,
          70,
          55,
          65,
          76,
          59,
          74,
          65,
          89,
          71,
          63,
          57,
          56,
          49,
          28,
          69,
          49,
          67,
          74,
          47,
          63,
          73,
          91,
          80,
          66,
          52,
          65,
          83,
          80,
          68,
          68,
          62,
          76,
          77,
          83,
          71,
          86,
          93,
          60,
          57,
          84,
          66,
          85,
          57,
          41,
          75,
          65,
          78,
          26,
          71,
          86,
          89,
          53,
          87,
          71,
          77,
          43,
          88,
          86,
          45,
          69,
          65,
          81,
          90,
          78,
          71,
          75,
          70,
          54,
          49,
          80,
          78,
          89,
          65,
          78,
          69,
          49,
          50,
          79,
          89,
          48,
          63,
          88,
          66,
          45,
          62,
          74,
          82,
          83,
          60,
          66,
          76,
          75,
          77,
          82,
          63,
          70,
          84,
          68,
          56,
          37,
          49,
          100,
          83,
          92,
          71,
          72,
          37,
          35,
          69,
          65,
          56,
          40,
          60,
          57,
          58,
          74,
          77,
          66,
          62,
          29,
          70,
          67,
          81,
          56,
          61,
          47,
          88,
          51,
          68,
          68,
          47,
          84,
          69,
          52,
          80,
          100,
          53,
          59,
          78,
          84,
          52,
          81,
          90,
          63,
          100,
          56,
          46,
          75,
          46,
          42,
          77,
          40,
          69,
          43,
          69,
          89,
          44,
          82,
          72,
          64,
          89,
          58,
          63,
          54,
          83,
          57,
          52,
          75,
          67,
          58,
          63,
          49,
          38,
          74,
          69,
          77,
          40,
          96,
          85,
          85,
          72,
          63,
          58,
          58,
          51,
          100,
          77,
          63,
          64,
          100,
          66,
          87,
          73,
          69,
          62,
          40,
          55,
          77,
          63,
          85,
          30,
          82,
          81,
          92,
          50,
          54,
          76,
          60,
          45,
          80,
          52,
          90,
          53,
          92,
          63,
          71,
          64,
          67,
          63,
          63,
          59,
          49,
          75,
          34,
          53,
          63,
          75,
          63,
          70,
          61,
          74,
          57,
          41,
          87,
          69,
          69,
          58,
          47,
          78,
          54,
          36,
          94,
          68,
          90,
          57,
          96,
          68,
          52,
          90,
          71,
          58,
          41,
          43,
          85,
          71,
          72,
          70,
          89,
          92,
          80,
          80,
          56,
          93,
          49,
          59,
          64,
          73,
          82,
          48,
          51,
          38,
          45,
          83,
          45,
          66,
          60,
          49,
          80,
          75,
          57,
          25,
          90,
          63,
          100,
          76,
          52,
          81,
          90,
          83,
          61,
          79,
          52,
          62,
          85,
          74,
          83,
          78,
          41,
          77,
          95,
          50,
          74,
          74,
          70,
          61,
          94,
          66,
          83,
          75,
          56,
          66,
          61,
          70,
          57,
          78,
          62,
          64,
          55,
          72,
          49,
          62,
          76,
          73,
          72,
          85,
          71,
          28,
          41,
          78,
          48,
          38,
          91,
          71,
          84,
          63,
          70,
          48,
          68,
          84,
          61,
          62,
          66,
          52,
          68,
          62,
          90,
          42,
          74,
          62,
          56,
          64,
          79,
          44,
          69,
          53,
          74,
          49,
          57,
          61,
          65,
          51,
          49,
          56,
          65,
          70,
          91,
          48,
          94,
          77,
          59,
          57,
          76,
          65,
          75,
          70,
          79,
          100,
          83,
          70,
          97,
          33,
          38,
          46,
          13,
          85,
          79,
          76,
          53,
          68,
          67,
          100,
          54,
          72,
          91,
          87,
          66,
          65,
          41,
          67,
          94,
          57,
          89,
          77,
          57,
          72,
          98,
          87,
          61,
          85,
          81,
          74,
          98,
          86,
          85,
          68,
          66,
          75,
          79,
          59,
          60,
          69,
          49,
          62,
          70,
          71,
          71,
          50,
          52,
          75,
          51,
          64,
          65,
          99,
          60,
          70,
          77,
          37,
          73,
          53,
          67,
          67,
          51,
          64,
          55,
          55,
          86,
          71,
          71,
          51,
          75,
          45,
          59,
          64,
          78,
          59,
          80,
          68,
          77,
          66,
          26,
          80,
          48,
          52,
          54,
          59,
          77,
          64,
          83,
          70,
          72,
          83,
          52,
          53,
          55,
          65,
          60,
          64,
          71,
          61,
          61,
          65,
          71,
          48,
          75,
          54,
          70,
          91,
          33,
          45,
          45,
          62,
          92,
          74,
          81,
          76,
          57,
          63,
          57,
          46,
          49,
          54,
          89,
          77,
          46,
          66,
          48,
          83,
          69,
          73,
          43,
          91,
          49,
          87,
          46,
          63,
          100,
          86,
          55,
          84,
          39,
          67,
          85,
          64,
          81,
          78,
          59,
          74,
          31,
          54,
          51,
          57,
          39,
          64,
          69,
          58,
          63,
          74,
          78,
          78,
          75,
          70,
          67,
          87,
          69,
          58,
          86,
          73,
          85,
          32,
          73,
          65
         ],
         "xaxis": "x",
         "yaxis": "y"
        },
        {
         "alignmentgroup": "True",
         "bingroup": "x",
         "hovertemplate": "variable=reading score<br>value=%{x}<br>count=%{y}<extra></extra>",
         "legendgroup": "reading score",
         "marker": {
          "color": "#EF553B",
          "pattern": {
           "shape": ""
          }
         },
         "name": "reading score",
         "offsetgroup": "reading score",
         "orientation": "v",
         "showlegend": true,
         "type": "histogram",
         "x": [
          67,
          59,
          60,
          78,
          73,
          77,
          59,
          88,
          56,
          42,
          83,
          87,
          87,
          74,
          87,
          61,
          47,
          62,
          44,
          32,
          76,
          52,
          69,
          55,
          38,
          45,
          60,
          68,
          89,
          54,
          79,
          74,
          41,
          65,
          88,
          74,
          77,
          65,
          68,
          81,
          75,
          67,
          79,
          70,
          88,
          46,
          63,
          76,
          72,
          63,
          68,
          58,
          81,
          53,
          57,
          60,
          80,
          87,
          61,
          51,
          66,
          63,
          67,
          82,
          93,
          74,
          60,
          46,
          64,
          64,
          68,
          52,
          70,
          76,
          76,
          77,
          63,
          91,
          73,
          43,
          59,
          38,
          59,
          76,
          41,
          71,
          76,
          93,
          52,
          76,
          47,
          71,
          81,
          87,
          73,
          63,
          100,
          52,
          50,
          54,
          61,
          78,
          78,
          67,
          58,
          78,
          74,
          38,
          78,
          33,
          88,
          52,
          82,
          34,
          76,
          79,
          61,
          57,
          70,
          90,
          71,
          87,
          53,
          43,
          78,
          54,
          71,
          52,
          84,
          95,
          75,
          70,
          63,
          55,
          54,
          78,
          81,
          66,
          44,
          72,
          63,
          77,
          83,
          62,
          71,
          57,
          61,
          55,
          100,
          44,
          78,
          67,
          79,
          66,
          63,
          44,
          64,
          87,
          95,
          78,
          98,
          63,
          92,
          75,
          72,
          87,
          64,
          64,
          90,
          85,
          60,
          71,
          66,
          64,
          74,
          56,
          56,
          53,
          93,
          87,
          62,
          52,
          95,
          83,
          85,
          100,
          77,
          61,
          65,
          63,
          57,
          51,
          62,
          91,
          64,
          49,
          46,
          57,
          62,
          63,
          63,
          54,
          64,
          64,
          83,
          74,
          78,
          78,
          86,
          62,
          69,
          88,
          75,
          66,
          80,
          57,
          72,
          81,
          59,
          61,
          90,
          69,
          48,
          77,
          94,
          69,
          36,
          71,
          80,
          83,
          90,
          75,
          44,
          74,
          79,
          91,
          68,
          95,
          62,
          75,
          84,
          76,
          64,
          65,
          34,
          74,
          52,
          71,
          54,
          83,
          70,
          65,
          63,
          76,
          61,
          66,
          78,
          71,
          79,
          87,
          72,
          46,
          56,
          66,
          82,
          71,
          73,
          76,
          58,
          73,
          72,
          69,
          71,
          100,
          93,
          83,
          72,
          77,
          49,
          73,
          81,
          100,
          65,
          42,
          49,
          80,
          89,
          48,
          71,
          63,
          74,
          77,
          71,
          75,
          60,
          83,
          47,
          58,
          58,
          43,
          28,
          39,
          62,
          68,
          63,
          57,
          61,
          63,
          81,
          80,
          69,
          57,
          48,
          78,
          68,
          87,
          67,
          83,
          86,
          85,
          56,
          83,
          58,
          83,
          84,
          65,
          80,
          69,
          60,
          63,
          69,
          90,
          54,
          83,
          43,
          76,
          68,
          46,
          68,
          73,
          61,
          53,
          62,
          70,
          80,
          60,
          79,
          78,
          58,
          88,
          64,
          50,
          78,
          71,
          75,
          54,
          71,
          60,
          74,
          52,
          90,
          53,
          63,
          83,
          71,
          64,
          61,
          67,
          64,
          75,
          72,
          71,
          65,
          53,
          89,
          75,
          91,
          54,
          87,
          90,
          51,
          83,
          78,
          84,
          86,
          86,
          57,
          61,
          82,
          80,
          62,
          56,
          29,
          58,
          59,
          78,
          100,
          80,
          73,
          70,
          73,
          71,
          74,
          63,
          77,
          61,
          92,
          64,
          49,
          75,
          72,
          75,
          60,
          61,
          62,
          70,
          65,
          70,
          65,
          46,
          71,
          71,
          45,
          73,
          39,
          83,
          65,
          70,
          52,
          78,
          83,
          71,
          74,
          85,
          63,
          87,
          74,
          52,
          88,
          66,
          64,
          100,
          70,
          38,
          86,
          71,
          76,
          72,
          52,
          75,
          62,
          56,
          85,
          47,
          73,
          59,
          87,
          82,
          69,
          55,
          67,
          44,
          44,
          73,
          62,
          62,
          85,
          67,
          63,
          51,
          94,
          87,
          73,
          48,
          71,
          75,
          85,
          68,
          73,
          43,
          88,
          79,
          81,
          78,
          91,
          96,
          64,
          56,
          79,
          71,
          69,
          68,
          49,
          76,
          63,
          65,
          34,
          64,
          92,
          84,
          64,
          87,
          57,
          80,
          48,
          91,
          76,
          56,
          56,
          70,
          79,
          88,
          72,
          79,
          80,
          60,
          52,
          36,
          82,
          89,
          77,
          83,
          74,
          85,
          47,
          64,
          76,
          92,
          61,
          67,
          100,
          73,
          59,
          78,
          80,
          87,
          63,
          72,
          73,
          66,
          74,
          72,
          88,
          59,
          85,
          71,
          60,
          58,
          46,
          56,
          100,
          68,
          100,
          62,
          76,
          53,
          43,
          68,
          73,
          48,
          46,
          62,
          66,
          62,
          95,
          77,
          57,
          79,
          38,
          73,
          64,
          91,
          50,
          79,
          54,
          87,
          52,
          60,
          71,
          49,
          77,
          72,
          69,
          79,
          84,
          59,
          73,
          96,
          87,
          72,
          78,
          95,
          73,
          97,
          63,
          54,
          85,
          51,
          40,
          86,
          63,
          71,
          50,
          75,
          93,
          34,
          83,
          72,
          53,
          73,
          53,
          81,
          66,
          78,
          74,
          47,
          93,
          66,
          60,
          66,
          64,
          47,
          85,
          84,
          82,
          59,
          98,
          86,
          77,
          59,
          78,
          67,
          64,
          57,
          100,
          84,
          56,
          67,
          82,
          65,
          87,
          72,
          66,
          64,
          48,
          68,
          77,
          70,
          85,
          43,
          77,
          71,
          100,
          48,
          60,
          83,
          68,
          72,
          77,
          45,
          89,
          65,
          95,
          78,
          77,
          70,
          81,
          63,
          53,
          49,
          43,
          84,
          47,
          70,
          56,
          69,
          61,
          72,
          73,
          61,
          49,
          52,
          80,
          71,
          77,
          56,
          69,
          69,
          61,
          27,
          92,
          84,
          88,
          57,
          95,
          63,
          64,
          76,
          82,
          69,
          39,
          37,
          70,
          72,
          70,
          62,
          100,
          86,
          79,
          70,
          64,
          86,
          37,
          57,
          74,
          66,
          86,
          43,
          64,
          46,
          50,
          92,
          57,
          64,
          62,
          47,
          84,
          68,
          68,
          36,
          87,
          70,
          91,
          68,
          58,
          86,
          89,
          82,
          73,
          69,
          53,
          65,
          90,
          96,
          85,
          72,
          43,
          91,
          99,
          68,
          76,
          93,
          62,
          59,
          100,
          84,
          88,
          63,
          65,
          88,
          69,
          79,
          59,
          89,
          76,
          53,
          66,
          83,
          48,
          60,
          73,
          86,
          76,
          85,
          68,
          38,
          42,
          72,
          52,
          51,
          100,
          81,
          87,
          60,
          78,
          52,
          72,
          84,
          62,
          59,
          78,
          65,
          75,
          68,
          88,
          50,
          90,
          61,
          55,
          52,
          84,
          65,
          94,
          48,
          69,
          55,
          71,
          72,
          88,
          60,
          51,
          65,
          62,
          64,
          95,
          56,
          99,
          76,
          78,
          75,
          82,
          63,
          75,
          66,
          79,
          100,
          96,
          84,
          80,
          32,
          40,
          51,
          36,
          83,
          79,
          81,
          70,
          70,
          70,
          84,
          48,
          73,
          97,
          81,
          75,
          66,
          56,
          69,
          89,
          70,
          83,
          73,
          60,
          72,
          94,
          97,
          57,
          100,
          85,
          84,
          92,
          84,
          81,
          71,
          78,
          74,
          57,
          85,
          62,
          60,
          54,
          44,
          84,
          57,
          69,
          59,
          55,
          65,
          64,
          48,
          76,
          81,
          62,
          78,
          76,
          28,
          73,
          74,
          58,
          79,
          57,
          71,
          42,
          39,
          77,
          88,
          63,
          67,
          76,
          31,
          54,
          69,
          69,
          61,
          70,
          82,
          81,
          67,
          44,
          66,
          62,
          64,
          64,
          68,
          62,
          70,
          72,
          73,
          68,
          78,
          58,
          73,
          55,
          63,
          67,
          62,
          72,
          71,
          55,
          74,
          83,
          49,
          80,
          66,
          64,
          77,
          44,
          50,
          33,
          61,
          79,
          75,
          79,
          71,
          72,
          61,
          62,
          65,
          50,
          60,
          87,
          70,
          63,
          59,
          63,
          76,
          75,
          52,
          59,
          84,
          58,
          86,
          46,
          61,
          83,
          87,
          73,
          100,
          51,
          57,
          100,
          51,
          77,
          71,
          59,
          76,
          29,
          55,
          51,
          65,
          50,
          48,
          79,
          50,
          71,
          73,
          84,
          78,
          76,
          60,
          55,
          93,
          63,
          54,
          82,
          70,
          91,
          35,
          74,
          60
         ],
         "xaxis": "x",
         "yaxis": "y"
        },
        {
         "alignmentgroup": "True",
         "bingroup": "x",
         "hovertemplate": "variable=writing score<br>value=%{x}<br>count=%{y}<extra></extra>",
         "legendgroup": "writing score",
         "marker": {
          "color": "#00cc96",
          "pattern": {
           "shape": ""
          }
         },
         "name": "writing score",
         "offsetgroup": "writing score",
         "orientation": "v",
         "showlegend": true,
         "type": "histogram",
         "x": [
          63,
          55,
          50,
          68,
          68,
          76,
          63,
          84,
          65,
          45,
          85,
          90,
          85,
          73,
          85,
          57,
          42,
          65,
          44,
          31,
          88,
          55,
          73,
          54,
          32,
          42,
          56,
          60,
          89,
          51,
          77,
          73,
          39,
          71,
          89,
          74,
          75,
          54,
          73,
          77,
          72,
          64,
          82,
          70,
          87,
          51,
          57,
          78,
          73,
          57,
          64,
          60,
          85,
          49,
          47,
          62,
          84,
          83,
          51,
          48,
          68,
          59,
          62,
          78,
          97,
          70,
          56,
          49,
          60,
          57,
          73,
          47,
          63,
          81,
          67,
          70,
          59,
          81,
          76,
          45,
          62,
          42,
          59,
          73,
          39,
          69,
          69,
          88,
          61,
          72,
          42,
          70,
          87,
          93,
          72,
          67,
          100,
          49,
          49,
          53,
          62,
          79,
          77,
          67,
          58,
          82,
          73,
          44,
          71,
          33,
          86,
          47,
          71,
          33,
          74,
          76,
          63,
          55,
          58,
          87,
          71,
          89,
          62,
          45,
          86,
          58,
          64,
          45,
          87,
          100,
          82,
          64,
          57,
          56,
          54,
          69,
          76,
          68,
          49,
          64,
          57,
          83,
          87,
          60,
          68,
          57,
          66,
          46,
          100,
          44,
          80,
          59,
          76,
          73,
          58,
          47,
          59,
          87,
          93,
          79,
          97,
          65,
          91,
          75,
          70,
          92,
          58,
          68,
          93,
          83,
          59,
          76,
          71,
          62,
          72,
          60,
          56,
          51,
          95,
          86,
          64,
          49,
          89,
          76,
          87,
          99,
          67,
          59,
          64,
          53,
          53,
          51,
          61,
          89,
          66,
          48,
          48,
          51,
          70,
          65,
          65,
          47,
          70,
          67,
          82,
          75,
          84,
          81,
          84,
          66,
          68,
          85,
          70,
          64,
          77,
          60,
          66,
          77,
          68,
          62,
          83,
          74,
          44,
          83,
          97,
          72,
          39,
          73,
          81,
          82,
          78,
          70,
          33,
          72,
          82,
          90,
          64,
          96,
          64,
          75,
          82,
          83,
          58,
          63,
          28,
          71,
          42,
          61,
          52,
          80,
          71,
          70,
          61,
          65,
          54,
          59,
          74,
          67,
          70,
          89,
          62,
          50,
          50,
          63,
          88,
          64,
          70,
          77,
          62,
          72,
          71,
          72,
          65,
          93,
          92,
          79,
          70,
          77,
          47,
          66,
          80,
          100,
          66,
          39,
          49,
          80,
          84,
          42,
          77,
          59,
          76,
          82,
          66,
          70,
          60,
          86,
          46,
          52,
          50,
          39,
          24,
          40,
          49,
          66,
          66,
          60,
          63,
          67,
          73,
          75,
          70,
          53,
          43,
          80,
          63,
          94,
          64,
          81,
          89,
          79,
          49,
          81,
          54,
          85,
          80,
          64,
          78,
          60,
          59,
          65,
          71,
          81,
          43,
          82,
          40,
          72,
          58,
          49,
          62,
          80,
          58,
          47,
          54,
          61,
          79,
          54,
          87,
          72,
          64,
          92,
          64,
          47,
          84,
          67,
          68,
          51,
          68,
          64,
          68,
          48,
          83,
          43,
          66,
          77,
          65,
          67,
          60,
          64,
          60,
          74,
          76,
          76,
          73,
          56,
          84,
          64,
          89,
          42,
          90,
          90,
          43,
          94,
          76,
          81,
          79,
          87,
          50,
          61,
          78,
          78,
          64,
          51,
          23,
          56,
          54,
          83,
          100,
          86,
          83,
          69,
          75,
          67,
          73,
          66,
          79,
          56,
          85,
          68,
          43,
          71,
          58,
          72,
          61,
          61,
          61,
          64,
          59,
          68,
          59,
          33,
          63,
          70,
          38,
          74,
          30,
          78,
          66,
          73,
          47,
          76,
          85,
          71,
          72,
          93,
          66,
          83,
          69,
          44,
          90,
          66,
          62,
          100,
          61,
          35,
          95,
          66,
          71,
          64,
          53,
          75,
          64,
          51,
          88,
          46,
          77,
          60,
          89,
          82,
          59,
          60,
          56,
          41,
          50,
          71,
          60,
          58,
          82,
          63,
          69,
          53,
          96,
          79,
          68,
          43,
          65,
          71,
          78,
          59,
          68,
          45,
          84,
          83,
          83,
          82,
          89,
          96,
          60,
          58,
          74,
          75,
          74,
          76,
          49,
          76,
          60,
          60,
          28,
          66,
          93,
          81,
          63,
          92,
          59,
          72,
          53,
          86,
          63,
          55,
          57,
          72,
          71,
          86,
          71,
          89,
          72,
          56,
          48,
          32,
          82,
          93,
          82,
          82,
          71,
          78,
          48,
          66,
          71,
          97,
          59,
          71,
          88,
          73,
          56,
          73,
          86,
          90,
          63,
          76,
          72,
          68,
          76,
          79,
          86,
          60,
          85,
          76,
          63,
          50,
          43,
          53,
          100,
          65,
          98,
          66,
          73,
          48,
          35,
          62,
          81,
          36,
          57,
          60,
          73,
          66,
          94,
          83,
          53,
          87,
          27,
          66,
          60,
          94,
          43,
          76,
          56,
          94,
          52,
          62,
          71,
          50,
          82,
          68,
          75,
          79,
          88,
          64,
          74,
          89,
          89,
          71,
          75,
          100,
          66,
          100,
          62,
          54,
          90,
          54,
          40,
          90,
          56,
          76,
          45,
          71,
          100,
          36,
          77,
          65,
          50,
          70,
          54,
          78,
          69,
          82,
          64,
          48,
          97,
          64,
          53,
          68,
          57,
          52,
          84,
          82,
          80,
          59,
          100,
          85,
          76,
          54,
          73,
          58,
          54,
          53,
          100,
          92,
          56,
          68,
          80,
          65,
          84,
          69,
          65,
          63,
          49,
          60,
          78,
          71,
          91,
          40,
          71,
          70,
          97,
          36,
          56,
          78,
          74,
          66,
          72,
          48,
          97,
          69,
          95,
          75,
          79,
          73,
          89,
          61,
          44,
          46,
          35,
          86,
          45,
          69,
          60,
          65,
          62,
          75,
          70,
          59,
          48,
          47,
          76,
          62,
          70,
          56,
          62,
          71,
          71,
          26,
          92,
          80,
          84,
          53,
          90,
          62,
          63,
          73,
          75,
          74,
          34,
          43,
          71,
          69,
          72,
          66,
          100,
          82,
          81,
          60,
          59,
          73,
          41,
          58,
          75,
          59,
          90,
          41,
          62,
          43,
          42,
          95,
          56,
          62,
          57,
          49,
          86,
          66,
          61,
          37,
          81,
          71,
          86,
          66,
          53,
          93,
          87,
          81,
          69,
          75,
          51,
          67,
          84,
          95,
          78,
          72,
          40,
          87,
          91,
          66,
          70,
          93,
          61,
          54,
          100,
          77,
          93,
          60,
          63,
          83,
          66,
          73,
          53,
          90,
          67,
          49,
          65,
          83,
          42,
          63,
          68,
          85,
          78,
          76,
          65,
          31,
          38,
          68,
          44,
          47,
          100,
          80,
          92,
          63,
          87,
          57,
          73,
          87,
          60,
          62,
          83,
          71,
          73,
          71,
          84,
          44,
          89,
          61,
          50,
          54,
          80,
          63,
          87,
          48,
          61,
          48,
          71,
          64,
          84,
          52,
          41,
          56,
          63,
          62,
          88,
          64,
          100,
          73,
          75,
          70,
          74,
          64,
          83,
          65,
          70,
          100,
          99,
          78,
          88,
          35,
          41,
          47,
          37,
          78,
          80,
          79,
          65,
          63,
          70,
          88,
          45,
          70,
          95,
          86,
          74,
          64,
          53,
          65,
          86,
          68,
          80,
          80,
          50,
          72,
          95,
          100,
          55,
          97,
          91,
          79,
          90,
          89,
          82,
          63,
          77,
          71,
          58,
          82,
          58,
          54,
          58,
          52,
          83,
          60,
          65,
          54,
          57,
          66,
          63,
          50,
          72,
          87,
          58,
          80,
          77,
          23,
          61,
          75,
          62,
          80,
          50,
          70,
          43,
          51,
          78,
          85,
          64,
          69,
          85,
          27,
          48,
          68,
          73,
          58,
          71,
          77,
          79,
          64,
          46,
          69,
          61,
          55,
          64,
          67,
          65,
          69,
          68,
          69,
          67,
          79,
          57,
          74,
          55,
          61,
          64,
          59,
          69,
          65,
          58,
          79,
          89,
          44,
          75,
          65,
          65,
          72,
          50,
          41,
          32,
          57,
          77,
          79,
          83,
          66,
          73,
          55,
          73,
          64,
          45,
          65,
          90,
          78,
          60,
          70,
          53,
          81,
          74,
          54,
          59,
          83,
          55,
          84,
          44,
          71,
          86,
          89,
          70,
          99,
          48,
          52,
          97,
          44,
          74,
          67,
          58,
          70,
          35,
          65,
          45,
          68,
          49,
          48,
          72,
          47,
          75,
          67,
          77,
          74,
          81,
          65,
          53,
          88,
          66,
          58,
          75,
          65,
          92,
          41,
          82,
          62
         ],
         "xaxis": "x",
         "yaxis": "y"
        }
       ],
       "layout": {
        "barmode": "relative",
        "legend": {
         "title": {
          "text": "variable"
         },
         "tracegroupgap": 0
        },
        "margin": {
         "t": 60
        },
        "template": {
         "data": {
          "bar": [
           {
            "error_x": {
             "color": "#2a3f5f"
            },
            "error_y": {
             "color": "#2a3f5f"
            },
            "marker": {
             "line": {
              "color": "#E5ECF6",
              "width": 0.5
             },
             "pattern": {
              "fillmode": "overlay",
              "size": 10,
              "solidity": 0.2
             }
            },
            "type": "bar"
           }
          ],
          "barpolar": [
           {
            "marker": {
             "line": {
              "color": "#E5ECF6",
              "width": 0.5
             },
             "pattern": {
              "fillmode": "overlay",
              "size": 10,
              "solidity": 0.2
             }
            },
            "type": "barpolar"
           }
          ],
          "carpet": [
           {
            "aaxis": {
             "endlinecolor": "#2a3f5f",
             "gridcolor": "white",
             "linecolor": "white",
             "minorgridcolor": "white",
             "startlinecolor": "#2a3f5f"
            },
            "baxis": {
             "endlinecolor": "#2a3f5f",
             "gridcolor": "white",
             "linecolor": "white",
             "minorgridcolor": "white",
             "startlinecolor": "#2a3f5f"
            },
            "type": "carpet"
           }
          ],
          "choropleth": [
           {
            "colorbar": {
             "outlinewidth": 0,
             "ticks": ""
            },
            "type": "choropleth"
           }
          ],
          "contour": [
           {
            "colorbar": {
             "outlinewidth": 0,
             "ticks": ""
            },
            "colorscale": [
             [
              0,
              "#0d0887"
             ],
             [
              0.1111111111111111,
              "#46039f"
             ],
             [
              0.2222222222222222,
              "#7201a8"
             ],
             [
              0.3333333333333333,
              "#9c179e"
             ],
             [
              0.4444444444444444,
              "#bd3786"
             ],
             [
              0.5555555555555556,
              "#d8576b"
             ],
             [
              0.6666666666666666,
              "#ed7953"
             ],
             [
              0.7777777777777778,
              "#fb9f3a"
             ],
             [
              0.8888888888888888,
              "#fdca26"
             ],
             [
              1,
              "#f0f921"
             ]
            ],
            "type": "contour"
           }
          ],
          "contourcarpet": [
           {
            "colorbar": {
             "outlinewidth": 0,
             "ticks": ""
            },
            "type": "contourcarpet"
           }
          ],
          "heatmap": [
           {
            "colorbar": {
             "outlinewidth": 0,
             "ticks": ""
            },
            "colorscale": [
             [
              0,
              "#0d0887"
             ],
             [
              0.1111111111111111,
              "#46039f"
             ],
             [
              0.2222222222222222,
              "#7201a8"
             ],
             [
              0.3333333333333333,
              "#9c179e"
             ],
             [
              0.4444444444444444,
              "#bd3786"
             ],
             [
              0.5555555555555556,
              "#d8576b"
             ],
             [
              0.6666666666666666,
              "#ed7953"
             ],
             [
              0.7777777777777778,
              "#fb9f3a"
             ],
             [
              0.8888888888888888,
              "#fdca26"
             ],
             [
              1,
              "#f0f921"
             ]
            ],
            "type": "heatmap"
           }
          ],
          "heatmapgl": [
           {
            "colorbar": {
             "outlinewidth": 0,
             "ticks": ""
            },
            "colorscale": [
             [
              0,
              "#0d0887"
             ],
             [
              0.1111111111111111,
              "#46039f"
             ],
             [
              0.2222222222222222,
              "#7201a8"
             ],
             [
              0.3333333333333333,
              "#9c179e"
             ],
             [
              0.4444444444444444,
              "#bd3786"
             ],
             [
              0.5555555555555556,
              "#d8576b"
             ],
             [
              0.6666666666666666,
              "#ed7953"
             ],
             [
              0.7777777777777778,
              "#fb9f3a"
             ],
             [
              0.8888888888888888,
              "#fdca26"
             ],
             [
              1,
              "#f0f921"
             ]
            ],
            "type": "heatmapgl"
           }
          ],
          "histogram": [
           {
            "marker": {
             "pattern": {
              "fillmode": "overlay",
              "size": 10,
              "solidity": 0.2
             }
            },
            "type": "histogram"
           }
          ],
          "histogram2d": [
           {
            "colorbar": {
             "outlinewidth": 0,
             "ticks": ""
            },
            "colorscale": [
             [
              0,
              "#0d0887"
             ],
             [
              0.1111111111111111,
              "#46039f"
             ],
             [
              0.2222222222222222,
              "#7201a8"
             ],
             [
              0.3333333333333333,
              "#9c179e"
             ],
             [
              0.4444444444444444,
              "#bd3786"
             ],
             [
              0.5555555555555556,
              "#d8576b"
             ],
             [
              0.6666666666666666,
              "#ed7953"
             ],
             [
              0.7777777777777778,
              "#fb9f3a"
             ],
             [
              0.8888888888888888,
              "#fdca26"
             ],
             [
              1,
              "#f0f921"
             ]
            ],
            "type": "histogram2d"
           }
          ],
          "histogram2dcontour": [
           {
            "colorbar": {
             "outlinewidth": 0,
             "ticks": ""
            },
            "colorscale": [
             [
              0,
              "#0d0887"
             ],
             [
              0.1111111111111111,
              "#46039f"
             ],
             [
              0.2222222222222222,
              "#7201a8"
             ],
             [
              0.3333333333333333,
              "#9c179e"
             ],
             [
              0.4444444444444444,
              "#bd3786"
             ],
             [
              0.5555555555555556,
              "#d8576b"
             ],
             [
              0.6666666666666666,
              "#ed7953"
             ],
             [
              0.7777777777777778,
              "#fb9f3a"
             ],
             [
              0.8888888888888888,
              "#fdca26"
             ],
             [
              1,
              "#f0f921"
             ]
            ],
            "type": "histogram2dcontour"
           }
          ],
          "mesh3d": [
           {
            "colorbar": {
             "outlinewidth": 0,
             "ticks": ""
            },
            "type": "mesh3d"
           }
          ],
          "parcoords": [
           {
            "line": {
             "colorbar": {
              "outlinewidth": 0,
              "ticks": ""
             }
            },
            "type": "parcoords"
           }
          ],
          "pie": [
           {
            "automargin": true,
            "type": "pie"
           }
          ],
          "scatter": [
           {
            "fillpattern": {
             "fillmode": "overlay",
             "size": 10,
             "solidity": 0.2
            },
            "type": "scatter"
           }
          ],
          "scatter3d": [
           {
            "line": {
             "colorbar": {
              "outlinewidth": 0,
              "ticks": ""
             }
            },
            "marker": {
             "colorbar": {
              "outlinewidth": 0,
              "ticks": ""
             }
            },
            "type": "scatter3d"
           }
          ],
          "scattercarpet": [
           {
            "marker": {
             "colorbar": {
              "outlinewidth": 0,
              "ticks": ""
             }
            },
            "type": "scattercarpet"
           }
          ],
          "scattergeo": [
           {
            "marker": {
             "colorbar": {
              "outlinewidth": 0,
              "ticks": ""
             }
            },
            "type": "scattergeo"
           }
          ],
          "scattergl": [
           {
            "marker": {
             "colorbar": {
              "outlinewidth": 0,
              "ticks": ""
             }
            },
            "type": "scattergl"
           }
          ],
          "scattermapbox": [
           {
            "marker": {
             "colorbar": {
              "outlinewidth": 0,
              "ticks": ""
             }
            },
            "type": "scattermapbox"
           }
          ],
          "scatterpolar": [
           {
            "marker": {
             "colorbar": {
              "outlinewidth": 0,
              "ticks": ""
             }
            },
            "type": "scatterpolar"
           }
          ],
          "scatterpolargl": [
           {
            "marker": {
             "colorbar": {
              "outlinewidth": 0,
              "ticks": ""
             }
            },
            "type": "scatterpolargl"
           }
          ],
          "scatterternary": [
           {
            "marker": {
             "colorbar": {
              "outlinewidth": 0,
              "ticks": ""
             }
            },
            "type": "scatterternary"
           }
          ],
          "surface": [
           {
            "colorbar": {
             "outlinewidth": 0,
             "ticks": ""
            },
            "colorscale": [
             [
              0,
              "#0d0887"
             ],
             [
              0.1111111111111111,
              "#46039f"
             ],
             [
              0.2222222222222222,
              "#7201a8"
             ],
             [
              0.3333333333333333,
              "#9c179e"
             ],
             [
              0.4444444444444444,
              "#bd3786"
             ],
             [
              0.5555555555555556,
              "#d8576b"
             ],
             [
              0.6666666666666666,
              "#ed7953"
             ],
             [
              0.7777777777777778,
              "#fb9f3a"
             ],
             [
              0.8888888888888888,
              "#fdca26"
             ],
             [
              1,
              "#f0f921"
             ]
            ],
            "type": "surface"
           }
          ],
          "table": [
           {
            "cells": {
             "fill": {
              "color": "#EBF0F8"
             },
             "line": {
              "color": "white"
             }
            },
            "header": {
             "fill": {
              "color": "#C8D4E3"
             },
             "line": {
              "color": "white"
             }
            },
            "type": "table"
           }
          ]
         },
         "layout": {
          "annotationdefaults": {
           "arrowcolor": "#2a3f5f",
           "arrowhead": 0,
           "arrowwidth": 1
          },
          "autotypenumbers": "strict",
          "coloraxis": {
           "colorbar": {
            "outlinewidth": 0,
            "ticks": ""
           }
          },
          "colorscale": {
           "diverging": [
            [
             0,
             "#8e0152"
            ],
            [
             0.1,
             "#c51b7d"
            ],
            [
             0.2,
             "#de77ae"
            ],
            [
             0.3,
             "#f1b6da"
            ],
            [
             0.4,
             "#fde0ef"
            ],
            [
             0.5,
             "#f7f7f7"
            ],
            [
             0.6,
             "#e6f5d0"
            ],
            [
             0.7,
             "#b8e186"
            ],
            [
             0.8,
             "#7fbc41"
            ],
            [
             0.9,
             "#4d9221"
            ],
            [
             1,
             "#276419"
            ]
           ],
           "sequential": [
            [
             0,
             "#0d0887"
            ],
            [
             0.1111111111111111,
             "#46039f"
            ],
            [
             0.2222222222222222,
             "#7201a8"
            ],
            [
             0.3333333333333333,
             "#9c179e"
            ],
            [
             0.4444444444444444,
             "#bd3786"
            ],
            [
             0.5555555555555556,
             "#d8576b"
            ],
            [
             0.6666666666666666,
             "#ed7953"
            ],
            [
             0.7777777777777778,
             "#fb9f3a"
            ],
            [
             0.8888888888888888,
             "#fdca26"
            ],
            [
             1,
             "#f0f921"
            ]
           ],
           "sequentialminus": [
            [
             0,
             "#0d0887"
            ],
            [
             0.1111111111111111,
             "#46039f"
            ],
            [
             0.2222222222222222,
             "#7201a8"
            ],
            [
             0.3333333333333333,
             "#9c179e"
            ],
            [
             0.4444444444444444,
             "#bd3786"
            ],
            [
             0.5555555555555556,
             "#d8576b"
            ],
            [
             0.6666666666666666,
             "#ed7953"
            ],
            [
             0.7777777777777778,
             "#fb9f3a"
            ],
            [
             0.8888888888888888,
             "#fdca26"
            ],
            [
             1,
             "#f0f921"
            ]
           ]
          },
          "colorway": [
           "#636efa",
           "#EF553B",
           "#00cc96",
           "#ab63fa",
           "#FFA15A",
           "#19d3f3",
           "#FF6692",
           "#B6E880",
           "#FF97FF",
           "#FECB52"
          ],
          "font": {
           "color": "#2a3f5f"
          },
          "geo": {
           "bgcolor": "white",
           "lakecolor": "white",
           "landcolor": "#E5ECF6",
           "showlakes": true,
           "showland": true,
           "subunitcolor": "white"
          },
          "hoverlabel": {
           "align": "left"
          },
          "hovermode": "closest",
          "mapbox": {
           "style": "light"
          },
          "paper_bgcolor": "white",
          "plot_bgcolor": "#E5ECF6",
          "polar": {
           "angularaxis": {
            "gridcolor": "white",
            "linecolor": "white",
            "ticks": ""
           },
           "bgcolor": "#E5ECF6",
           "radialaxis": {
            "gridcolor": "white",
            "linecolor": "white",
            "ticks": ""
           }
          },
          "scene": {
           "xaxis": {
            "backgroundcolor": "#E5ECF6",
            "gridcolor": "white",
            "gridwidth": 2,
            "linecolor": "white",
            "showbackground": true,
            "ticks": "",
            "zerolinecolor": "white"
           },
           "yaxis": {
            "backgroundcolor": "#E5ECF6",
            "gridcolor": "white",
            "gridwidth": 2,
            "linecolor": "white",
            "showbackground": true,
            "ticks": "",
            "zerolinecolor": "white"
           },
           "zaxis": {
            "backgroundcolor": "#E5ECF6",
            "gridcolor": "white",
            "gridwidth": 2,
            "linecolor": "white",
            "showbackground": true,
            "ticks": "",
            "zerolinecolor": "white"
           }
          },
          "shapedefaults": {
           "line": {
            "color": "#2a3f5f"
           }
          },
          "ternary": {
           "aaxis": {
            "gridcolor": "white",
            "linecolor": "white",
            "ticks": ""
           },
           "baxis": {
            "gridcolor": "white",
            "linecolor": "white",
            "ticks": ""
           },
           "bgcolor": "#E5ECF6",
           "caxis": {
            "gridcolor": "white",
            "linecolor": "white",
            "ticks": ""
           }
          },
          "title": {
           "x": 0.05
          },
          "xaxis": {
           "automargin": true,
           "gridcolor": "white",
           "linecolor": "white",
           "ticks": "",
           "title": {
            "standoff": 15
           },
           "zerolinecolor": "white",
           "zerolinewidth": 2
          },
          "yaxis": {
           "automargin": true,
           "gridcolor": "white",
           "linecolor": "white",
           "ticks": "",
           "title": {
            "standoff": 15
           },
           "zerolinecolor": "white",
           "zerolinewidth": 2
          }
         }
        },
        "xaxis": {
         "anchor": "y",
         "domain": [
          0,
          1
         ],
         "title": {
          "text": "value"
         }
        },
        "yaxis": {
         "anchor": "x",
         "domain": [
          0,
          1
         ],
         "title": {
          "text": "count"
         }
        }
       }
      }
     },
     "metadata": {},
     "output_type": "display_data"
    }
   ],
   "source": [
    "df2 =df1.copy()\n",
    "df3 = df2.drop( ['gender',  'lunch', 'test preparation course'],axis =1)\n",
    "import plotly.express as px \n",
    "px.histogram(df3)"
   ]
  },
  {
   "cell_type": "code",
   "execution_count": 58,
   "metadata": {},
   "outputs": [
    {
     "data": {
      "application/vnd.plotly.v1+json": {
       "config": {
        "plotlyServerURL": "https://plot.ly"
       },
       "data": [
        {
         "alignmentgroup": "True",
         "bingroup": "x",
         "hovertemplate": "variable=math score<br>value=%{x}<br>count=%{y}<extra></extra>",
         "legendgroup": "math score",
         "marker": {
          "color": "#636efa",
          "pattern": {
           "shape": ""
          }
         },
         "name": "math score",
         "offsetgroup": "math score",
         "orientation": "v",
         "showlegend": true,
         "type": "histogram",
         "x": [
          67,
          40,
          59,
          77,
          78,
          63,
          62,
          93,
          63,
          47,
          99,
          80,
          77,
          74,
          81,
          69,
          58,
          54,
          23,
          39,
          83,
          58,
          71,
          44,
          46,
          51,
          53,
          71,
          74,
          33,
          87,
          78,
          40,
          65,
          79,
          68,
          57,
          67,
          58,
          98,
          54,
          77,
          87,
          58,
          100,
          60,
          64,
          65,
          68,
          60,
          65,
          52,
          74,
          36,
          57,
          56,
          67,
          88,
          42,
          68,
          76,
          58,
          69,
          77,
          83,
          49,
          71,
          47,
          79,
          60,
          56,
          57,
          49,
          79,
          71,
          71,
          47,
          72,
          78,
          54,
          46,
          31,
          51,
          78,
          32,
          53,
          63,
          97,
          56,
          72,
          57,
          74,
          81,
          94,
          81,
          58,
          95,
          45,
          63,
          60,
          54,
          75,
          79,
          66,
          47,
          70,
          82,
          56,
          92,
          30,
          79,
          41,
          63,
          43,
          77,
          76,
          49,
          59,
          59,
          76,
          55,
          78,
          51,
          41,
          74,
          62,
          77,
          45,
          100,
          83,
          77,
          66,
          65,
          62,
          55,
          73,
          73,
          48,
          52,
          60,
          68,
          65,
          86,
          55,
          80,
          51,
          63,
          60,
          100,
          46,
          67,
          54,
          63,
          68,
          54,
          43,
          64,
          92,
          82,
          84,
          84,
          65,
          83,
          70,
          66,
          71,
          66,
          57,
          86,
          80,
          62,
          71,
          57,
          69,
          83,
          50,
          55,
          55,
          83,
          89,
          51,
          48,
          84,
          69,
          75,
          91,
          76,
          63,
          73,
          52,
          58,
          33,
          68,
          77,
          64,
          39,
          50,
          53,
          54,
          74,
          50,
          55,
          77,
          49,
          66,
          77,
          74,
          85,
          77,
          64,
          61,
          97,
          66,
          62,
          64,
          55,
          53,
          71,
          66,
          68,
          89,
          65,
          43,
          79,
          99,
          82,
          35,
          61,
          76,
          94,
          75,
          81,
          35,
          76,
          58,
          100,
          53,
          82,
          76,
          83,
          72,
          76,
          66,
          63,
          36,
          68,
          40,
          68,
          56,
          74,
          53,
          88,
          67,
          60,
          51,
          53,
          80,
          69,
          64,
          80,
          58,
          39,
          64,
          61,
          90,
          73,
          73,
          67,
          57,
          65,
          71,
          59,
          74,
          93,
          85,
          76,
          58,
          72,
          40,
          75,
          85,
          100,
          53,
          40,
          49,
          77,
          82,
          55,
          62,
          69,
          78,
          71,
          59,
          60,
          43,
          77,
          50,
          56,
          69,
          47,
          43,
          48,
          55,
          73,
          71,
          54,
          66,
          63,
          66,
          79,
          73,
          36,
          50,
          87,
          71,
          85,
          58,
          86,
          64,
          83,
          58,
          59,
          40,
          82,
          87,
          62,
          76,
          63,
          58,
          61,
          78,
          78,
          56,
          96,
          48,
          70,
          43,
          45,
          58,
          70,
          60,
          52,
          61,
          55,
          80,
          63,
          79,
          74,
          46,
          72,
          58,
          47,
          68,
          68,
          65,
          50,
          48,
          58,
          71,
          58,
          66,
          44,
          51,
          78,
          72,
          60,
          55,
          64,
          57,
          70,
          84,
          66,
          56,
          59,
          87,
          73,
          85,
          49,
          82,
          80,
          48,
          85,
          70,
          89,
          72,
          80,
          43,
          54,
          82,
          74,
          63,
          47,
          13,
          67,
          57,
          64,
          85,
          70,
          90,
          53,
          74,
          61,
          55,
          65,
          77,
          74,
          94,
          54,
          52,
          73,
          81,
          62,
          55,
          55,
          61,
          75,
          79,
          70,
          72,
          38,
          57,
          76,
          45,
          77,
          40,
          78,
          63,
          83,
          55,
          88,
          82,
          86,
          61,
          78,
          67,
          83,
          68,
          53,
          91,
          67,
          53,
          86,
          75,
          55,
          93,
          62,
          83,
          73,
          57,
          70,
          55,
          65,
          76,
          59,
          74,
          65,
          89,
          71,
          63,
          57,
          56,
          49,
          28,
          69,
          49,
          67,
          74,
          47,
          63,
          73,
          91,
          80,
          66,
          52,
          65,
          83,
          80,
          68,
          68,
          62,
          76,
          77,
          83,
          71,
          86,
          93,
          60,
          57,
          84,
          66,
          85,
          57,
          41,
          75,
          65,
          78,
          26,
          71,
          86,
          89,
          53,
          87,
          71,
          77,
          43,
          88,
          86,
          45,
          69,
          65,
          81,
          90,
          78,
          71,
          75,
          70,
          54,
          49,
          80,
          78,
          89,
          65,
          78,
          69,
          49,
          50,
          79,
          89,
          48,
          63,
          88,
          66,
          45,
          62,
          74,
          82,
          83,
          60,
          66,
          76,
          75,
          77,
          82,
          63,
          70,
          84,
          68,
          56,
          37,
          49,
          100,
          83,
          92,
          71,
          72,
          37,
          35,
          69,
          65,
          56,
          40,
          60,
          57,
          58,
          74,
          77,
          66,
          62,
          29,
          70,
          67,
          81,
          56,
          61,
          47,
          88,
          51,
          68,
          68,
          47,
          84,
          69,
          52,
          80,
          100,
          53,
          59,
          78,
          84,
          52,
          81,
          90,
          63,
          100,
          56,
          46,
          75,
          46,
          42,
          77,
          40,
          69,
          43,
          69,
          89,
          44,
          82,
          72,
          64,
          89,
          58,
          63,
          54,
          83,
          57,
          52,
          75,
          67,
          58,
          63,
          49,
          38,
          74,
          69,
          77,
          40,
          96,
          85,
          85,
          72,
          63,
          58,
          58,
          51,
          100,
          77,
          63,
          64,
          100,
          66,
          87,
          73,
          69,
          62,
          40,
          55,
          77,
          63,
          85,
          30,
          82,
          81,
          92,
          50,
          54,
          76,
          60,
          45,
          80,
          52,
          90,
          53,
          92,
          63,
          71,
          64,
          67,
          63,
          63,
          59,
          49,
          75,
          34,
          53,
          63,
          75,
          63,
          70,
          61,
          74,
          57,
          41,
          87,
          69,
          69,
          58,
          47,
          78,
          54,
          36,
          94,
          68,
          90,
          57,
          96,
          68,
          52,
          90,
          71,
          58,
          41,
          43,
          85,
          71,
          72,
          70,
          89,
          92,
          80,
          80,
          56,
          93,
          49,
          59,
          64,
          73,
          82,
          48,
          51,
          38,
          45,
          83,
          45,
          66,
          60,
          49,
          80,
          75,
          57,
          25,
          90,
          63,
          100,
          76,
          52,
          81,
          90,
          83,
          61,
          79,
          52,
          62,
          85,
          74,
          83,
          78,
          41,
          77,
          95,
          50,
          74,
          74,
          70,
          61,
          94,
          66,
          83,
          75,
          56,
          66,
          61,
          70,
          57,
          78,
          62,
          64,
          55,
          72,
          49,
          62,
          76,
          73,
          72,
          85,
          71,
          28,
          41,
          78,
          48,
          38,
          91,
          71,
          84,
          63,
          70,
          48,
          68,
          84,
          61,
          62,
          66,
          52,
          68,
          62,
          90,
          42,
          74,
          62,
          56,
          64,
          79,
          44,
          69,
          53,
          74,
          49,
          57,
          61,
          65,
          51,
          49,
          56,
          65,
          70,
          91,
          48,
          94,
          77,
          59,
          57,
          76,
          65,
          75,
          70,
          79,
          100,
          83,
          70,
          97,
          33,
          38,
          46,
          13,
          85,
          79,
          76,
          53,
          68,
          67,
          100,
          54,
          72,
          91,
          87,
          66,
          65,
          41,
          67,
          94,
          57,
          89,
          77,
          57,
          72,
          98,
          87,
          61,
          85,
          81,
          74,
          98,
          86,
          85,
          68,
          66,
          75,
          79,
          59,
          60,
          69,
          49,
          62,
          70,
          71,
          71,
          50,
          52,
          75,
          51,
          64,
          65,
          99,
          60,
          70,
          77,
          37,
          73,
          53,
          67,
          67,
          51,
          64,
          55,
          55,
          86,
          71,
          71,
          51,
          75,
          45,
          59,
          64,
          78,
          59,
          80,
          68,
          77,
          66,
          26,
          80,
          48,
          52,
          54,
          59,
          77,
          64,
          83,
          70,
          72,
          83,
          52,
          53,
          55,
          65,
          60,
          64,
          71,
          61,
          61,
          65,
          71,
          48,
          75,
          54,
          70,
          91,
          33,
          45,
          45,
          62,
          92,
          74,
          81,
          76,
          57,
          63,
          57,
          46,
          49,
          54,
          89,
          77,
          46,
          66,
          48,
          83,
          69,
          73,
          43,
          91,
          49,
          87,
          46,
          63,
          100,
          86,
          55,
          84,
          39,
          67,
          85,
          64,
          81,
          78,
          59,
          74,
          31,
          54,
          51,
          57,
          39,
          64,
          69,
          58,
          63,
          74,
          78,
          78,
          75,
          70,
          67,
          87,
          69,
          58,
          86,
          73,
          85,
          32,
          73,
          65
         ],
         "xaxis": "x",
         "yaxis": "y"
        }
       ],
       "layout": {
        "barmode": "relative",
        "legend": {
         "title": {
          "text": "variable"
         },
         "tracegroupgap": 0
        },
        "margin": {
         "t": 60
        },
        "template": {
         "data": {
          "bar": [
           {
            "error_x": {
             "color": "#2a3f5f"
            },
            "error_y": {
             "color": "#2a3f5f"
            },
            "marker": {
             "line": {
              "color": "#E5ECF6",
              "width": 0.5
             },
             "pattern": {
              "fillmode": "overlay",
              "size": 10,
              "solidity": 0.2
             }
            },
            "type": "bar"
           }
          ],
          "barpolar": [
           {
            "marker": {
             "line": {
              "color": "#E5ECF6",
              "width": 0.5
             },
             "pattern": {
              "fillmode": "overlay",
              "size": 10,
              "solidity": 0.2
             }
            },
            "type": "barpolar"
           }
          ],
          "carpet": [
           {
            "aaxis": {
             "endlinecolor": "#2a3f5f",
             "gridcolor": "white",
             "linecolor": "white",
             "minorgridcolor": "white",
             "startlinecolor": "#2a3f5f"
            },
            "baxis": {
             "endlinecolor": "#2a3f5f",
             "gridcolor": "white",
             "linecolor": "white",
             "minorgridcolor": "white",
             "startlinecolor": "#2a3f5f"
            },
            "type": "carpet"
           }
          ],
          "choropleth": [
           {
            "colorbar": {
             "outlinewidth": 0,
             "ticks": ""
            },
            "type": "choropleth"
           }
          ],
          "contour": [
           {
            "colorbar": {
             "outlinewidth": 0,
             "ticks": ""
            },
            "colorscale": [
             [
              0,
              "#0d0887"
             ],
             [
              0.1111111111111111,
              "#46039f"
             ],
             [
              0.2222222222222222,
              "#7201a8"
             ],
             [
              0.3333333333333333,
              "#9c179e"
             ],
             [
              0.4444444444444444,
              "#bd3786"
             ],
             [
              0.5555555555555556,
              "#d8576b"
             ],
             [
              0.6666666666666666,
              "#ed7953"
             ],
             [
              0.7777777777777778,
              "#fb9f3a"
             ],
             [
              0.8888888888888888,
              "#fdca26"
             ],
             [
              1,
              "#f0f921"
             ]
            ],
            "type": "contour"
           }
          ],
          "contourcarpet": [
           {
            "colorbar": {
             "outlinewidth": 0,
             "ticks": ""
            },
            "type": "contourcarpet"
           }
          ],
          "heatmap": [
           {
            "colorbar": {
             "outlinewidth": 0,
             "ticks": ""
            },
            "colorscale": [
             [
              0,
              "#0d0887"
             ],
             [
              0.1111111111111111,
              "#46039f"
             ],
             [
              0.2222222222222222,
              "#7201a8"
             ],
             [
              0.3333333333333333,
              "#9c179e"
             ],
             [
              0.4444444444444444,
              "#bd3786"
             ],
             [
              0.5555555555555556,
              "#d8576b"
             ],
             [
              0.6666666666666666,
              "#ed7953"
             ],
             [
              0.7777777777777778,
              "#fb9f3a"
             ],
             [
              0.8888888888888888,
              "#fdca26"
             ],
             [
              1,
              "#f0f921"
             ]
            ],
            "type": "heatmap"
           }
          ],
          "heatmapgl": [
           {
            "colorbar": {
             "outlinewidth": 0,
             "ticks": ""
            },
            "colorscale": [
             [
              0,
              "#0d0887"
             ],
             [
              0.1111111111111111,
              "#46039f"
             ],
             [
              0.2222222222222222,
              "#7201a8"
             ],
             [
              0.3333333333333333,
              "#9c179e"
             ],
             [
              0.4444444444444444,
              "#bd3786"
             ],
             [
              0.5555555555555556,
              "#d8576b"
             ],
             [
              0.6666666666666666,
              "#ed7953"
             ],
             [
              0.7777777777777778,
              "#fb9f3a"
             ],
             [
              0.8888888888888888,
              "#fdca26"
             ],
             [
              1,
              "#f0f921"
             ]
            ],
            "type": "heatmapgl"
           }
          ],
          "histogram": [
           {
            "marker": {
             "pattern": {
              "fillmode": "overlay",
              "size": 10,
              "solidity": 0.2
             }
            },
            "type": "histogram"
           }
          ],
          "histogram2d": [
           {
            "colorbar": {
             "outlinewidth": 0,
             "ticks": ""
            },
            "colorscale": [
             [
              0,
              "#0d0887"
             ],
             [
              0.1111111111111111,
              "#46039f"
             ],
             [
              0.2222222222222222,
              "#7201a8"
             ],
             [
              0.3333333333333333,
              "#9c179e"
             ],
             [
              0.4444444444444444,
              "#bd3786"
             ],
             [
              0.5555555555555556,
              "#d8576b"
             ],
             [
              0.6666666666666666,
              "#ed7953"
             ],
             [
              0.7777777777777778,
              "#fb9f3a"
             ],
             [
              0.8888888888888888,
              "#fdca26"
             ],
             [
              1,
              "#f0f921"
             ]
            ],
            "type": "histogram2d"
           }
          ],
          "histogram2dcontour": [
           {
            "colorbar": {
             "outlinewidth": 0,
             "ticks": ""
            },
            "colorscale": [
             [
              0,
              "#0d0887"
             ],
             [
              0.1111111111111111,
              "#46039f"
             ],
             [
              0.2222222222222222,
              "#7201a8"
             ],
             [
              0.3333333333333333,
              "#9c179e"
             ],
             [
              0.4444444444444444,
              "#bd3786"
             ],
             [
              0.5555555555555556,
              "#d8576b"
             ],
             [
              0.6666666666666666,
              "#ed7953"
             ],
             [
              0.7777777777777778,
              "#fb9f3a"
             ],
             [
              0.8888888888888888,
              "#fdca26"
             ],
             [
              1,
              "#f0f921"
             ]
            ],
            "type": "histogram2dcontour"
           }
          ],
          "mesh3d": [
           {
            "colorbar": {
             "outlinewidth": 0,
             "ticks": ""
            },
            "type": "mesh3d"
           }
          ],
          "parcoords": [
           {
            "line": {
             "colorbar": {
              "outlinewidth": 0,
              "ticks": ""
             }
            },
            "type": "parcoords"
           }
          ],
          "pie": [
           {
            "automargin": true,
            "type": "pie"
           }
          ],
          "scatter": [
           {
            "fillpattern": {
             "fillmode": "overlay",
             "size": 10,
             "solidity": 0.2
            },
            "type": "scatter"
           }
          ],
          "scatter3d": [
           {
            "line": {
             "colorbar": {
              "outlinewidth": 0,
              "ticks": ""
             }
            },
            "marker": {
             "colorbar": {
              "outlinewidth": 0,
              "ticks": ""
             }
            },
            "type": "scatter3d"
           }
          ],
          "scattercarpet": [
           {
            "marker": {
             "colorbar": {
              "outlinewidth": 0,
              "ticks": ""
             }
            },
            "type": "scattercarpet"
           }
          ],
          "scattergeo": [
           {
            "marker": {
             "colorbar": {
              "outlinewidth": 0,
              "ticks": ""
             }
            },
            "type": "scattergeo"
           }
          ],
          "scattergl": [
           {
            "marker": {
             "colorbar": {
              "outlinewidth": 0,
              "ticks": ""
             }
            },
            "type": "scattergl"
           }
          ],
          "scattermapbox": [
           {
            "marker": {
             "colorbar": {
              "outlinewidth": 0,
              "ticks": ""
             }
            },
            "type": "scattermapbox"
           }
          ],
          "scatterpolar": [
           {
            "marker": {
             "colorbar": {
              "outlinewidth": 0,
              "ticks": ""
             }
            },
            "type": "scatterpolar"
           }
          ],
          "scatterpolargl": [
           {
            "marker": {
             "colorbar": {
              "outlinewidth": 0,
              "ticks": ""
             }
            },
            "type": "scatterpolargl"
           }
          ],
          "scatterternary": [
           {
            "marker": {
             "colorbar": {
              "outlinewidth": 0,
              "ticks": ""
             }
            },
            "type": "scatterternary"
           }
          ],
          "surface": [
           {
            "colorbar": {
             "outlinewidth": 0,
             "ticks": ""
            },
            "colorscale": [
             [
              0,
              "#0d0887"
             ],
             [
              0.1111111111111111,
              "#46039f"
             ],
             [
              0.2222222222222222,
              "#7201a8"
             ],
             [
              0.3333333333333333,
              "#9c179e"
             ],
             [
              0.4444444444444444,
              "#bd3786"
             ],
             [
              0.5555555555555556,
              "#d8576b"
             ],
             [
              0.6666666666666666,
              "#ed7953"
             ],
             [
              0.7777777777777778,
              "#fb9f3a"
             ],
             [
              0.8888888888888888,
              "#fdca26"
             ],
             [
              1,
              "#f0f921"
             ]
            ],
            "type": "surface"
           }
          ],
          "table": [
           {
            "cells": {
             "fill": {
              "color": "#EBF0F8"
             },
             "line": {
              "color": "white"
             }
            },
            "header": {
             "fill": {
              "color": "#C8D4E3"
             },
             "line": {
              "color": "white"
             }
            },
            "type": "table"
           }
          ]
         },
         "layout": {
          "annotationdefaults": {
           "arrowcolor": "#2a3f5f",
           "arrowhead": 0,
           "arrowwidth": 1
          },
          "autotypenumbers": "strict",
          "coloraxis": {
           "colorbar": {
            "outlinewidth": 0,
            "ticks": ""
           }
          },
          "colorscale": {
           "diverging": [
            [
             0,
             "#8e0152"
            ],
            [
             0.1,
             "#c51b7d"
            ],
            [
             0.2,
             "#de77ae"
            ],
            [
             0.3,
             "#f1b6da"
            ],
            [
             0.4,
             "#fde0ef"
            ],
            [
             0.5,
             "#f7f7f7"
            ],
            [
             0.6,
             "#e6f5d0"
            ],
            [
             0.7,
             "#b8e186"
            ],
            [
             0.8,
             "#7fbc41"
            ],
            [
             0.9,
             "#4d9221"
            ],
            [
             1,
             "#276419"
            ]
           ],
           "sequential": [
            [
             0,
             "#0d0887"
            ],
            [
             0.1111111111111111,
             "#46039f"
            ],
            [
             0.2222222222222222,
             "#7201a8"
            ],
            [
             0.3333333333333333,
             "#9c179e"
            ],
            [
             0.4444444444444444,
             "#bd3786"
            ],
            [
             0.5555555555555556,
             "#d8576b"
            ],
            [
             0.6666666666666666,
             "#ed7953"
            ],
            [
             0.7777777777777778,
             "#fb9f3a"
            ],
            [
             0.8888888888888888,
             "#fdca26"
            ],
            [
             1,
             "#f0f921"
            ]
           ],
           "sequentialminus": [
            [
             0,
             "#0d0887"
            ],
            [
             0.1111111111111111,
             "#46039f"
            ],
            [
             0.2222222222222222,
             "#7201a8"
            ],
            [
             0.3333333333333333,
             "#9c179e"
            ],
            [
             0.4444444444444444,
             "#bd3786"
            ],
            [
             0.5555555555555556,
             "#d8576b"
            ],
            [
             0.6666666666666666,
             "#ed7953"
            ],
            [
             0.7777777777777778,
             "#fb9f3a"
            ],
            [
             0.8888888888888888,
             "#fdca26"
            ],
            [
             1,
             "#f0f921"
            ]
           ]
          },
          "colorway": [
           "#636efa",
           "#EF553B",
           "#00cc96",
           "#ab63fa",
           "#FFA15A",
           "#19d3f3",
           "#FF6692",
           "#B6E880",
           "#FF97FF",
           "#FECB52"
          ],
          "font": {
           "color": "#2a3f5f"
          },
          "geo": {
           "bgcolor": "white",
           "lakecolor": "white",
           "landcolor": "#E5ECF6",
           "showlakes": true,
           "showland": true,
           "subunitcolor": "white"
          },
          "hoverlabel": {
           "align": "left"
          },
          "hovermode": "closest",
          "mapbox": {
           "style": "light"
          },
          "paper_bgcolor": "white",
          "plot_bgcolor": "#E5ECF6",
          "polar": {
           "angularaxis": {
            "gridcolor": "white",
            "linecolor": "white",
            "ticks": ""
           },
           "bgcolor": "#E5ECF6",
           "radialaxis": {
            "gridcolor": "white",
            "linecolor": "white",
            "ticks": ""
           }
          },
          "scene": {
           "xaxis": {
            "backgroundcolor": "#E5ECF6",
            "gridcolor": "white",
            "gridwidth": 2,
            "linecolor": "white",
            "showbackground": true,
            "ticks": "",
            "zerolinecolor": "white"
           },
           "yaxis": {
            "backgroundcolor": "#E5ECF6",
            "gridcolor": "white",
            "gridwidth": 2,
            "linecolor": "white",
            "showbackground": true,
            "ticks": "",
            "zerolinecolor": "white"
           },
           "zaxis": {
            "backgroundcolor": "#E5ECF6",
            "gridcolor": "white",
            "gridwidth": 2,
            "linecolor": "white",
            "showbackground": true,
            "ticks": "",
            "zerolinecolor": "white"
           }
          },
          "shapedefaults": {
           "line": {
            "color": "#2a3f5f"
           }
          },
          "ternary": {
           "aaxis": {
            "gridcolor": "white",
            "linecolor": "white",
            "ticks": ""
           },
           "baxis": {
            "gridcolor": "white",
            "linecolor": "white",
            "ticks": ""
           },
           "bgcolor": "#E5ECF6",
           "caxis": {
            "gridcolor": "white",
            "linecolor": "white",
            "ticks": ""
           }
          },
          "title": {
           "x": 0.05
          },
          "xaxis": {
           "automargin": true,
           "gridcolor": "white",
           "linecolor": "white",
           "ticks": "",
           "title": {
            "standoff": 15
           },
           "zerolinecolor": "white",
           "zerolinewidth": 2
          },
          "yaxis": {
           "automargin": true,
           "gridcolor": "white",
           "linecolor": "white",
           "ticks": "",
           "title": {
            "standoff": 15
           },
           "zerolinecolor": "white",
           "zerolinewidth": 2
          }
         }
        },
        "xaxis": {
         "anchor": "y",
         "domain": [
          0,
          1
         ],
         "title": {
          "text": "value"
         }
        },
        "yaxis": {
         "anchor": "x",
         "domain": [
          0,
          1
         ],
         "title": {
          "text": "count"
         }
        }
       }
      }
     },
     "metadata": {},
     "output_type": "display_data"
    }
   ],
   "source": [
    "px.histogram(df['math score'])"
   ]
  },
  {
   "cell_type": "code",
   "execution_count": 66,
   "metadata": {},
   "outputs": [
    {
     "data": {
      "text/plain": [
       "<seaborn.axisgrid.FacetGrid at 0x1dbdca4b150>"
      ]
     },
     "execution_count": 66,
     "metadata": {},
     "output_type": "execute_result"
    },
    {
     "data": {
      "image/png": "[encoded data removed]",
      "text/plain": [
       "<Figure size 500x500 with 1 Axes>"
      ]
     },
     "metadata": {},
     "output_type": "display_data"
    }
   ],
   "source": [
    "sns.displot(df['writing score'], bins = 10)"
   ]
  },
  {
   "cell_type": "code",
   "execution_count": 67,
   "metadata": {},
   "outputs": [
    {
     "data": {
      "application/vnd.plotly.v1+json": {
       "config": {
        "plotlyServerURL": "https://plot.ly"
       },
       "data": [
        {
         "alignmentgroup": "True",
         "bingroup": "x",
         "hovertemplate": "variable=reading score<br>value=%{x}<br>count=%{y}<extra></extra>",
         "legendgroup": "reading score",
         "marker": {
          "color": "#636efa",
          "pattern": {
           "shape": ""
          }
         },
         "name": "reading score",
         "offsetgroup": "reading score",
         "orientation": "v",
         "showlegend": true,
         "type": "histogram",
         "x": [
          67,
          59,
          60,
          78,
          73,
          77,
          59,
          88,
          56,
          42,
          83,
          87,
          87,
          74,
          87,
          61,
          47,
          62,
          44,
          32,
          76,
          52,
          69,
          55,
          38,
          45,
          60,
          68,
          89,
          54,
          79,
          74,
          41,
          65,
          88,
          74,
          77,
          65,
          68,
          81,
          75,
          67,
          79,
          70,
          88,
          46,
          63,
          76,
          72,
          63,
          68,
          58,
          81,
          53,
          57,
          60,
          80,
          87,
          61,
          51,
          66,
          63,
          67,
          82,
          93,
          74,
          60,
          46,
          64,
          64,
          68,
          52,
          70,
          76,
          76,
          77,
          63,
          91,
          73,
          43,
          59,
          38,
          59,
          76,
          41,
          71,
          76,
          93,
          52,
          76,
          47,
          71,
          81,
          87,
          73,
          63,
          100,
          52,
          50,
          54,
          61,
          78,
          78,
          67,
          58,
          78,
          74,
          38,
          78,
          33,
          88,
          52,
          82,
          34,
          76,
          79,
          61,
          57,
          70,
          90,
          71,
          87,
          53,
          43,
          78,
          54,
          71,
          52,
          84,
          95,
          75,
          70,
          63,
          55,
          54,
          78,
          81,
          66,
          44,
          72,
          63,
          77,
          83,
          62,
          71,
          57,
          61,
          55,
          100,
          44,
          78,
          67,
          79,
          66,
          63,
          44,
          64,
          87,
          95,
          78,
          98,
          63,
          92,
          75,
          72,
          87,
          64,
          64,
          90,
          85,
          60,
          71,
          66,
          64,
          74,
          56,
          56,
          53,
          93,
          87,
          62,
          52,
          95,
          83,
          85,
          100,
          77,
          61,
          65,
          63,
          57,
          51,
          62,
          91,
          64,
          49,
          46,
          57,
          62,
          63,
          63,
          54,
          64,
          64,
          83,
          74,
          78,
          78,
          86,
          62,
          69,
          88,
          75,
          66,
          80,
          57,
          72,
          81,
          59,
          61,
          90,
          69,
          48,
          77,
          94,
          69,
          36,
          71,
          80,
          83,
          90,
          75,
          44,
          74,
          79,
          91,
          68,
          95,
          62,
          75,
          84,
          76,
          64,
          65,
          34,
          74,
          52,
          71,
          54,
          83,
          70,
          65,
          63,
          76,
          61,
          66,
          78,
          71,
          79,
          87,
          72,
          46,
          56,
          66,
          82,
          71,
          73,
          76,
          58,
          73,
          72,
          69,
          71,
          100,
          93,
          83,
          72,
          77,
          49,
          73,
          81,
          100,
          65,
          42,
          49,
          80,
          89,
          48,
          71,
          63,
          74,
          77,
          71,
          75,
          60,
          83,
          47,
          58,
          58,
          43,
          28,
          39,
          62,
          68,
          63,
          57,
          61,
          63,
          81,
          80,
          69,
          57,
          48,
          78,
          68,
          87,
          67,
          83,
          86,
          85,
          56,
          83,
          58,
          83,
          84,
          65,
          80,
          69,
          60,
          63,
          69,
          90,
          54,
          83,
          43,
          76,
          68,
          46,
          68,
          73,
          61,
          53,
          62,
          70,
          80,
          60,
          79,
          78,
          58,
          88,
          64,
          50,
          78,
          71,
          75,
          54,
          71,
          60,
          74,
          52,
          90,
          53,
          63,
          83,
          71,
          64,
          61,
          67,
          64,
          75,
          72,
          71,
          65,
          53,
          89,
          75,
          91,
          54,
          87,
          90,
          51,
          83,
          78,
          84,
          86,
          86,
          57,
          61,
          82,
          80,
          62,
          56,
          29,
          58,
          59,
          78,
          100,
          80,
          73,
          70,
          73,
          71,
          74,
          63,
          77,
          61,
          92,
          64,
          49,
          75,
          72,
          75,
          60,
          61,
          62,
          70,
          65,
          70,
          65,
          46,
          71,
          71,
          45,
          73,
          39,
          83,
          65,
          70,
          52,
          78,
          83,
          71,
          74,
          85,
          63,
          87,
          74,
          52,
          88,
          66,
          64,
          100,
          70,
          38,
          86,
          71,
          76,
          72,
          52,
          75,
          62,
          56,
          85,
          47,
          73,
          59,
          87,
          82,
          69,
          55,
          67,
          44,
          44,
          73,
          62,
          62,
          85,
          67,
          63,
          51,
          94,
          87,
          73,
          48,
          71,
          75,
          85,
          68,
          73,
          43,
          88,
          79,
          81,
          78,
          91,
          96,
          64,
          56,
          79,
          71,
          69,
          68,
          49,
          76,
          63,
          65,
          34,
          64,
          92,
          84,
          64,
          87,
          57,
          80,
          48,
          91,
          76,
          56,
          56,
          70,
          79,
          88,
          72,
          79,
          80,
          60,
          52,
          36,
          82,
          89,
          77,
          83,
          74,
          85,
          47,
          64,
          76,
          92,
          61,
          67,
          100,
          73,
          59,
          78,
          80,
          87,
          63,
          72,
          73,
          66,
          74,
          72,
          88,
          59,
          85,
          71,
          60,
          58,
          46,
          56,
          100,
          68,
          100,
          62,
          76,
          53,
          43,
          68,
          73,
          48,
          46,
          62,
          66,
          62,
          95,
          77,
          57,
          79,
          38,
          73,
          64,
          91,
          50,
          79,
          54,
          87,
          52,
          60,
          71,
          49,
          77,
          72,
          69,
          79,
          84,
          59,
          73,
          96,
          87,
          72,
          78,
          95,
          73,
          97,
          63,
          54,
          85,
          51,
          40,
          86,
          63,
          71,
          50,
          75,
          93,
          34,
          83,
          72,
          53,
          73,
          53,
          81,
          66,
          78,
          74,
          47,
          93,
          66,
          60,
          66,
          64,
          47,
          85,
          84,
          82,
          59,
          98,
          86,
          77,
          59,
          78,
          67,
          64,
          57,
          100,
          84,
          56,
          67,
          82,
          65,
          87,
          72,
          66,
          64,
          48,
          68,
          77,
          70,
          85,
          43,
          77,
          71,
          100,
          48,
          60,
          83,
          68,
          72,
          77,
          45,
          89,
          65,
          95,
          78,
          77,
          70,
          81,
          63,
          53,
          49,
          43,
          84,
          47,
          70,
          56,
          69,
          61,
          72,
          73,
          61,
          49,
          52,
          80,
          71,
          77,
          56,
          69,
          69,
          61,
          27,
          92,
          84,
          88,
          57,
          95,
          63,
          64,
          76,
          82,
          69,
          39,
          37,
          70,
          72,
          70,
          62,
          100,
          86,
          79,
          70,
          64,
          86,
          37,
          57,
          74,
          66,
          86,
          43,
          64,
          46,
          50,
          92,
          57,
          64,
          62,
          47,
          84,
          68,
          68,
          36,
          87,
          70,
          91,
          68,
          58,
          86,
          89,
          82,
          73,
          69,
          53,
          65,
          90,
          96,
          85,
          72,
          43,
          91,
          99,
          68,
          76,
          93,
          62,
          59,
          100,
          84,
          88,
          63,
          65,
          88,
          69,
          79,
          59,
          89,
          76,
          53,
          66,
          83,
          48,
          60,
          73,
          86,
          76,
          85,
          68,
          38,
          42,
          72,
          52,
          51,
          100,
          81,
          87,
          60,
          78,
          52,
          72,
          84,
          62,
          59,
          78,
          65,
          75,
          68,
          88,
          50,
          90,
          61,
          55,
          52,
          84,
          65,
          94,
          48,
          69,
          55,
          71,
          72,
          88,
          60,
          51,
          65,
          62,
          64,
          95,
          56,
          99,
          76,
          78,
          75,
          82,
          63,
          75,
          66,
          79,
          100,
          96,
          84,
          80,
          32,
          40,
          51,
          36,
          83,
          79,
          81,
          70,
          70,
          70,
          84,
          48,
          73,
          97,
          81,
          75,
          66,
          56,
          69,
          89,
          70,
          83,
          73,
          60,
          72,
          94,
          97,
          57,
          100,
          85,
          84,
          92,
          84,
          81,
          71,
          78,
          74,
          57,
          85,
          62,
          60,
          54,
          44,
          84,
          57,
          69,
          59,
          55,
          65,
          64,
          48,
          76,
          81,
          62,
          78,
          76,
          28,
          73,
          74,
          58,
          79,
          57,
          71,
          42,
          39,
          77,
          88,
          63,
          67,
          76,
          31,
          54,
          69,
          69,
          61,
          70,
          82,
          81,
          67,
          44,
          66,
          62,
          64,
          64,
          68,
          62,
          70,
          72,
          73,
          68,
          78,
          58,
          73,
          55,
          63,
          67,
          62,
          72,
          71,
          55,
          74,
          83,
          49,
          80,
          66,
          64,
          77,
          44,
          50,
          33,
          61,
          79,
          75,
          79,
          71,
          72,
          61,
          62,
          65,
          50,
          60,
          87,
          70,
          63,
          59,
          63,
          76,
          75,
          52,
          59,
          84,
          58,
          86,
          46,
          61,
          83,
          87,
          73,
          100,
          51,
          57,
          100,
          51,
          77,
          71,
          59,
          76,
          29,
          55,
          51,
          65,
          50,
          48,
          79,
          50,
          71,
          73,
          84,
          78,
          76,
          60,
          55,
          93,
          63,
          54,
          82,
          70,
          91,
          35,
          74,
          60
         ],
         "xaxis": "x",
         "yaxis": "y"
        }
       ],
       "layout": {
        "barmode": "relative",
        "legend": {
         "title": {
          "text": "variable"
         },
         "tracegroupgap": 0
        },
        "margin": {
         "t": 60
        },
        "template": {
         "data": {
          "bar": [
           {
            "error_x": {
             "color": "#2a3f5f"
            },
            "error_y": {
             "color": "#2a3f5f"
            },
            "marker": {
             "line": {
              "color": "#E5ECF6",
              "width": 0.5
             },
             "pattern": {
              "fillmode": "overlay",
              "size": 10,
              "solidity": 0.2
             }
            },
            "type": "bar"
           }
          ],
          "barpolar": [
           {
            "marker": {
             "line": {
              "color": "#E5ECF6",
              "width": 0.5
             },
             "pattern": {
              "fillmode": "overlay",
              "size": 10,
              "solidity": 0.2
             }
            },
            "type": "barpolar"
           }
          ],
          "carpet": [
           {
            "aaxis": {
             "endlinecolor": "#2a3f5f",
             "gridcolor": "white",
             "linecolor": "white",
             "minorgridcolor": "white",
             "startlinecolor": "#2a3f5f"
            },
            "baxis": {
             "endlinecolor": "#2a3f5f",
             "gridcolor": "white",
             "linecolor": "white",
             "minorgridcolor": "white",
             "startlinecolor": "#2a3f5f"
            },
            "type": "carpet"
           }
          ],
          "choropleth": [
           {
            "colorbar": {
             "outlinewidth": 0,
             "ticks": ""
            },
            "type": "choropleth"
           }
          ],
          "contour": [
           {
            "colorbar": {
             "outlinewidth": 0,
             "ticks": ""
            },
            "colorscale": [
             [
              0,
              "#0d0887"
             ],
             [
              0.1111111111111111,
              "#46039f"
             ],
             [
              0.2222222222222222,
              "#7201a8"
             ],
             [
              0.3333333333333333,
              "#9c179e"
             ],
             [
              0.4444444444444444,
              "#bd3786"
             ],
             [
              0.5555555555555556,
              "#d8576b"
             ],
             [
              0.6666666666666666,
              "#ed7953"
             ],
             [
              0.7777777777777778,
              "#fb9f3a"
             ],
             [
              0.8888888888888888,
              "#fdca26"
             ],
             [
              1,
              "#f0f921"
             ]
            ],
            "type": "contour"
           }
          ],
          "contourcarpet": [
           {
            "colorbar": {
             "outlinewidth": 0,
             "ticks": ""
            },
            "type": "contourcarpet"
           }
          ],
          "heatmap": [
           {
            "colorbar": {
             "outlinewidth": 0,
             "ticks": ""
            },
            "colorscale": [
             [
              0,
              "#0d0887"
             ],
             [
              0.1111111111111111,
              "#46039f"
             ],
             [
              0.2222222222222222,
              "#7201a8"
             ],
             [
              0.3333333333333333,
              "#9c179e"
             ],
             [
              0.4444444444444444,
              "#bd3786"
             ],
             [
              0.5555555555555556,
              "#d8576b"
             ],
             [
              0.6666666666666666,
              "#ed7953"
             ],
             [
              0.7777777777777778,
              "#fb9f3a"
             ],
             [
              0.8888888888888888,
              "#fdca26"
             ],
             [
              1,
              "#f0f921"
             ]
            ],
            "type": "heatmap"
           }
          ],
          "heatmapgl": [
           {
            "colorbar": {
             "outlinewidth": 0,
             "ticks": ""
            },
            "colorscale": [
             [
              0,
              "#0d0887"
             ],
             [
              0.1111111111111111,
              "#46039f"
             ],
             [
              0.2222222222222222,
              "#7201a8"
             ],
             [
              0.3333333333333333,
              "#9c179e"
             ],
             [
              0.4444444444444444,
              "#bd3786"
             ],
             [
              0.5555555555555556,
              "#d8576b"
             ],
             [
              0.6666666666666666,
              "#ed7953"
             ],
             [
              0.7777777777777778,
              "#fb9f3a"
             ],
             [
              0.8888888888888888,
              "#fdca26"
             ],
             [
              1,
              "#f0f921"
             ]
            ],
            "type": "heatmapgl"
           }
          ],
          "histogram": [
           {
            "marker": {
             "pattern": {
              "fillmode": "overlay",
              "size": 10,
              "solidity": 0.2
             }
            },
            "type": "histogram"
           }
          ],
          "histogram2d": [
           {
            "colorbar": {
             "outlinewidth": 0,
             "ticks": ""
            },
            "colorscale": [
             [
              0,
              "#0d0887"
             ],
             [
              0.1111111111111111,
              "#46039f"
             ],
             [
              0.2222222222222222,
              "#7201a8"
             ],
             [
              0.3333333333333333,
              "#9c179e"
             ],
             [
              0.4444444444444444,
              "#bd3786"
             ],
             [
              0.5555555555555556,
              "#d8576b"
             ],
             [
              0.6666666666666666,
              "#ed7953"
             ],
             [
              0.7777777777777778,
              "#fb9f3a"
             ],
             [
              0.8888888888888888,
              "#fdca26"
             ],
             [
              1,
              "#f0f921"
             ]
            ],
            "type": "histogram2d"
           }
          ],
          "histogram2dcontour": [
           {
            "colorbar": {
             "outlinewidth": 0,
             "ticks": ""
            },
            "colorscale": [
             [
              0,
              "#0d0887"
             ],
             [
              0.1111111111111111,
              "#46039f"
             ],
             [
              0.2222222222222222,
              "#7201a8"
             ],
             [
              0.3333333333333333,
              "#9c179e"
             ],
             [
              0.4444444444444444,
              "#bd3786"
             ],
             [
              0.5555555555555556,
              "#d8576b"
             ],
             [
              0.6666666666666666,
              "#ed7953"
             ],
             [
              0.7777777777777778,
              "#fb9f3a"
             ],
             [
              0.8888888888888888,
              "#fdca26"
             ],
             [
              1,
              "#f0f921"
             ]
            ],
            "type": "histogram2dcontour"
           }
          ],
          "mesh3d": [
           {
            "colorbar": {
             "outlinewidth": 0,
             "ticks": ""
            },
            "type": "mesh3d"
           }
          ],
          "parcoords": [
           {
            "line": {
             "colorbar": {
              "outlinewidth": 0,
              "ticks": ""
             }
            },
            "type": "parcoords"
           }
          ],
          "pie": [
           {
            "automargin": true,
            "type": "pie"
           }
          ],
          "scatter": [
           {
            "fillpattern": {
             "fillmode": "overlay",
             "size": 10,
             "solidity": 0.2
            },
            "type": "scatter"
           }
          ],
          "scatter3d": [
           {
            "line": {
             "colorbar": {
              "outlinewidth": 0,
              "ticks": ""
             }
            },
            "marker": {
             "colorbar": {
              "outlinewidth": 0,
              "ticks": ""
             }
            },
            "type": "scatter3d"
           }
          ],
          "scattercarpet": [
           {
            "marker": {
             "colorbar": {
              "outlinewidth": 0,
              "ticks": ""
             }
            },
            "type": "scattercarpet"
           }
          ],
          "scattergeo": [
           {
            "marker": {
             "colorbar": {
              "outlinewidth": 0,
              "ticks": ""
             }
            },
            "type": "scattergeo"
           }
          ],
          "scattergl": [
           {
            "marker": {
             "colorbar": {
              "outlinewidth": 0,
              "ticks": ""
             }
            },
            "type": "scattergl"
           }
          ],
          "scattermapbox": [
           {
            "marker": {
             "colorbar": {
              "outlinewidth": 0,
              "ticks": ""
             }
            },
            "type": "scattermapbox"
           }
          ],
          "scatterpolar": [
           {
            "marker": {
             "colorbar": {
              "outlinewidth": 0,
              "ticks": ""
             }
            },
            "type": "scatterpolar"
           }
          ],
          "scatterpolargl": [
           {
            "marker": {
             "colorbar": {
              "outlinewidth": 0,
              "ticks": ""
             }
            },
            "type": "scatterpolargl"
           }
          ],
          "scatterternary": [
           {
            "marker": {
             "colorbar": {
              "outlinewidth": 0,
              "ticks": ""
             }
            },
            "type": "scatterternary"
           }
          ],
          "surface": [
           {
            "colorbar": {
             "outlinewidth": 0,
             "ticks": ""
            },
            "colorscale": [
             [
              0,
              "#0d0887"
             ],
             [
              0.1111111111111111,
              "#46039f"
             ],
             [
              0.2222222222222222,
              "#7201a8"
             ],
             [
              0.3333333333333333,
              "#9c179e"
             ],
             [
              0.4444444444444444,
              "#bd3786"
             ],
             [
              0.5555555555555556,
              "#d8576b"
             ],
             [
              0.6666666666666666,
              "#ed7953"
             ],
             [
              0.7777777777777778,
              "#fb9f3a"
             ],
             [
              0.8888888888888888,
              "#fdca26"
             ],
             [
              1,
              "#f0f921"
             ]
            ],
            "type": "surface"
           }
          ],
          "table": [
           {
            "cells": {
             "fill": {
              "color": "#EBF0F8"
             },
             "line": {
              "color": "white"
             }
            },
            "header": {
             "fill": {
              "color": "#C8D4E3"
             },
             "line": {
              "color": "white"
             }
            },
            "type": "table"
           }
          ]
         },
         "layout": {
          "annotationdefaults": {
           "arrowcolor": "#2a3f5f",
           "arrowhead": 0,
           "arrowwidth": 1
          },
          "autotypenumbers": "strict",
          "coloraxis": {
           "colorbar": {
            "outlinewidth": 0,
            "ticks": ""
           }
          },
          "colorscale": {
           "diverging": [
            [
             0,
             "#8e0152"
            ],
            [
             0.1,
             "#c51b7d"
            ],
            [
             0.2,
             "#de77ae"
            ],
            [
             0.3,
             "#f1b6da"
            ],
            [
             0.4,
             "#fde0ef"
            ],
            [
             0.5,
             "#f7f7f7"
            ],
            [
             0.6,
             "#e6f5d0"
            ],
            [
             0.7,
             "#b8e186"
            ],
            [
             0.8,
             "#7fbc41"
            ],
            [
             0.9,
             "#4d9221"
            ],
            [
             1,
             "#276419"
            ]
           ],
           "sequential": [
            [
             0,
             "#0d0887"
            ],
            [
             0.1111111111111111,
             "#46039f"
            ],
            [
             0.2222222222222222,
             "#7201a8"
            ],
            [
             0.3333333333333333,
             "#9c179e"
            ],
            [
             0.4444444444444444,
             "#bd3786"
            ],
            [
             0.5555555555555556,
             "#d8576b"
            ],
            [
             0.6666666666666666,
             "#ed7953"
            ],
            [
             0.7777777777777778,
             "#fb9f3a"
            ],
            [
             0.8888888888888888,
             "#fdca26"
            ],
            [
             1,
             "#f0f921"
            ]
           ],
           "sequentialminus": [
            [
             0,
             "#0d0887"
            ],
            [
             0.1111111111111111,
             "#46039f"
            ],
            [
             0.2222222222222222,
             "#7201a8"
            ],
            [
             0.3333333333333333,
             "#9c179e"
            ],
            [
             0.4444444444444444,
             "#bd3786"
            ],
            [
             0.5555555555555556,
             "#d8576b"
            ],
            [
             0.6666666666666666,
             "#ed7953"
            ],
            [
             0.7777777777777778,
             "#fb9f3a"
            ],
            [
             0.8888888888888888,
             "#fdca26"
            ],
            [
             1,
             "#f0f921"
            ]
           ]
          },
          "colorway": [
           "#636efa",
           "#EF553B",
           "#00cc96",
           "#ab63fa",
           "#FFA15A",
           "#19d3f3",
           "#FF6692",
           "#B6E880",
           "#FF97FF",
           "#FECB52"
          ],
          "font": {
           "color": "#2a3f5f"
          },
          "geo": {
           "bgcolor": "white",
           "lakecolor": "white",
           "landcolor": "#E5ECF6",
           "showlakes": true,
           "showland": true,
           "subunitcolor": "white"
          },
          "hoverlabel": {
           "align": "left"
          },
          "hovermode": "closest",
          "mapbox": {
           "style": "light"
          },
          "paper_bgcolor": "white",
          "plot_bgcolor": "#E5ECF6",
          "polar": {
           "angularaxis": {
            "gridcolor": "white",
            "linecolor": "white",
            "ticks": ""
           },
           "bgcolor": "#E5ECF6",
           "radialaxis": {
            "gridcolor": "white",
            "linecolor": "white",
            "ticks": ""
           }
          },
          "scene": {
           "xaxis": {
            "backgroundcolor": "#E5ECF6",
            "gridcolor": "white",
            "gridwidth": 2,
            "linecolor": "white",
            "showbackground": true,
            "ticks": "",
            "zerolinecolor": "white"
           },
           "yaxis": {
            "backgroundcolor": "#E5ECF6",
            "gridcolor": "white",
            "gridwidth": 2,
            "linecolor": "white",
            "showbackground": true,
            "ticks": "",
            "zerolinecolor": "white"
           },
           "zaxis": {
            "backgroundcolor": "#E5ECF6",
            "gridcolor": "white",
            "gridwidth": 2,
            "linecolor": "white",
            "showbackground": true,
            "ticks": "",
            "zerolinecolor": "white"
           }
          },
          "shapedefaults": {
           "line": {
            "color": "#2a3f5f"
           }
          },
          "ternary": {
           "aaxis": {
            "gridcolor": "white",
            "linecolor": "white",
            "ticks": ""
           },
           "baxis": {
            "gridcolor": "white",
            "linecolor": "white",
            "ticks": ""
           },
           "bgcolor": "#E5ECF6",
           "caxis": {
            "gridcolor": "white",
            "linecolor": "white",
            "ticks": ""
           }
          },
          "title": {
           "x": 0.05
          },
          "xaxis": {
           "automargin": true,
           "gridcolor": "white",
           "linecolor": "white",
           "ticks": "",
           "title": {
            "standoff": 15
           },
           "zerolinecolor": "white",
           "zerolinewidth": 2
          },
          "yaxis": {
           "automargin": true,
           "gridcolor": "white",
           "linecolor": "white",
           "ticks": "",
           "title": {
            "standoff": 15
           },
           "zerolinecolor": "white",
           "zerolinewidth": 2
          }
         }
        },
        "xaxis": {
         "anchor": "y",
         "domain": [
          0,
          1
         ],
         "title": {
          "text": "value"
         }
        },
        "yaxis": {
         "anchor": "x",
         "domain": [
          0,
          1
         ],
         "title": {
          "text": "count"
         }
        }
       }
      }
     },
     "metadata": {},
     "output_type": "display_data"
    }
   ],
   "source": [
    "px.histogram(df['reading score'])"
   ]
  },
  {
   "cell_type": "code",
   "execution_count": 69,
   "metadata": {},
   "outputs": [
    {
     "data": {
      "text/plain": [
       "<seaborn.axisgrid.FacetGrid at 0x1dbdd083310>"
      ]
     },
     "execution_count": 69,
     "metadata": {},
     "output_type": "execute_result"
    },
    {
     "data": {
      "image/png": "[encoded data removed]",
      "text/plain": [
       "<Figure size 500x500 with 1 Axes>"
      ]
     },
     "metadata": {},
     "output_type": "display_data"
    }
   ],
   "source": [
    "sns.displot(df['reading score'], bins = 20)"
   ]
  },
  {
   "cell_type": "code",
   "execution_count": 74,
   "metadata": {},
   "outputs": [
    {
     "data": {
      "text/html": [
       "<div>\n",
       "<style scoped>\n",
       "    .dataframe tbody tr th:only-of-type {\n",
       "        vertical-align: middle;\n",
       "    }\n",
       "\n",
       "    .dataframe tbody tr th {\n",
       "        vertical-align: top;\n",
       "    }\n",
       "\n",
       "    .dataframe thead th {\n",
       "        text-align: right;\n",
       "    }\n",
       "</style>\n",
       "<table border=\"1\" class=\"dataframe\">\n",
       "  <thead>\n",
       "    <tr style=\"text-align: right;\">\n",
       "      <th></th>\n",
       "      <th>count</th>\n",
       "      <th>mean</th>\n",
       "      <th>std</th>\n",
       "      <th>min</th>\n",
       "      <th>25%</th>\n",
       "      <th>50%</th>\n",
       "      <th>75%</th>\n",
       "      <th>max</th>\n",
       "    </tr>\n",
       "  </thead>\n",
       "  <tbody>\n",
       "    <tr>\n",
       "      <th>math score</th>\n",
       "      <td>1000.0</td>\n",
       "      <td>66.396</td>\n",
       "      <td>15.402871</td>\n",
       "      <td>13.0</td>\n",
       "      <td>56.0</td>\n",
       "      <td>66.5</td>\n",
       "      <td>77.0</td>\n",
       "      <td>100.0</td>\n",
       "    </tr>\n",
       "    <tr>\n",
       "      <th>reading score</th>\n",
       "      <td>1000.0</td>\n",
       "      <td>69.002</td>\n",
       "      <td>14.737272</td>\n",
       "      <td>27.0</td>\n",
       "      <td>60.0</td>\n",
       "      <td>70.0</td>\n",
       "      <td>79.0</td>\n",
       "      <td>100.0</td>\n",
       "    </tr>\n",
       "    <tr>\n",
       "      <th>writing score</th>\n",
       "      <td>1000.0</td>\n",
       "      <td>67.738</td>\n",
       "      <td>15.600985</td>\n",
       "      <td>23.0</td>\n",
       "      <td>58.0</td>\n",
       "      <td>68.0</td>\n",
       "      <td>79.0</td>\n",
       "      <td>100.0</td>\n",
       "    </tr>\n",
       "  </tbody>\n",
       "</table>\n",
       "</div>"
      ],
      "text/plain": [
       "                count    mean        std   min   25%   50%   75%    max\n",
       "math score     1000.0  66.396  15.402871  13.0  56.0  66.5  77.0  100.0\n",
       "reading score  1000.0  69.002  14.737272  27.0  60.0  70.0  79.0  100.0\n",
       "writing score  1000.0  67.738  15.600985  23.0  58.0  68.0  79.0  100.0"
      ]
     },
     "execution_count": 74,
     "metadata": {},
     "output_type": "execute_result"
    }
   ],
   "source": [
    "df3.describe().transpose()"
   ]
  },
  {
   "cell_type": "code",
   "execution_count": 71,
   "metadata": {},
   "outputs": [
    {
     "data": {
      "text/plain": [
       "<seaborn.axisgrid.FacetGrid at 0x1dbdeeb8bd0>"
      ]
     },
     "execution_count": 71,
     "metadata": {},
     "output_type": "execute_result"
    },
    {
     "data": {
      "image/png": "[encoded data removed]",
      "text/plain": [
       "<Figure size 500x500 with 1 Axes>"
      ]
     },
     "metadata": {},
     "output_type": "display_data"
    }
   ],
   "source": [
    "#Boxplot\n",
    "sns.catplot(x= 'math score', kind ='box', data = df3)"
   ]
  },
  {
   "cell_type": "code",
   "execution_count": 72,
   "metadata": {},
   "outputs": [
    {
     "data": {
      "text/plain": [
       "<seaborn.axisgrid.FacetGrid at 0x1dbdef19a90>"
      ]
     },
     "execution_count": 72,
     "metadata": {},
     "output_type": "execute_result"
    },
    {
     "data": {
      "image/png": "[encoded data removed]",
      "text/plain": [
       "<Figure size 500x500 with 1 Axes>"
      ]
     },
     "metadata": {},
     "output_type": "display_data"
    }
   ],
   "source": [
    "sns.catplot(x= 'writing score', kind ='box', data = df3)"
   ]
  },
  {
   "cell_type": "code",
   "execution_count": 73,
   "metadata": {},
   "outputs": [
    {
     "data": {
      "text/plain": [
       "<seaborn.axisgrid.FacetGrid at 0x1dbdef3aad0>"
      ]
     },
     "execution_count": 73,
     "metadata": {},
     "output_type": "execute_result"
    },
    {
     "data": {
      "image/png": "[encoded data removed]",
      "text/plain": [
       "<Figure size 500x500 with 1 Axes>"
      ]
     },
     "metadata": {},
     "output_type": "display_data"
    }
   ],
   "source": [
    "sns.catplot(x= 'reading score', kind ='box', data = df3)"
   ]
  },
  {
   "attachments": {},
   "cell_type": "markdown",
   "metadata": {},
   "source": [
    "Well, my comments on this one, i kinda understand some concepts as i was following a tutorial but seriously ... Anywei we will get there one step at a time. Cheers!"
   ]
  }
 ],
 "metadata": {
  "kernelspec": {
   "display_name": "Python 3",
   "language": "python",
   "name": "python3"
  },
  "language_info": {
   "codemirror_mode": {
    "name": "ipython",
    "version": 3
   },
   "file_extension": ".py",
   "mimetype": "text/x-python",
   "name": "python",
   "nbconvert_exporter": "python",
   "pygments_lexer": "ipython3",
   "version": "3.11.1"
  },
  "orig_nbformat": 4,
  "vscode": {
   "interpreter": {
    "hash": "78568aafcec68be6fd0a8e6a30cb46b09d7cdbdec305ef4fe85a8bf88b94d20b"
   }
  }
 },
 "nbformat": 4,
 "nbformat_minor": 2
}
