{
 "cells": [
  {
   "attachments": {},
   "cell_type": "markdown",
   "metadata": {},
   "source": [
    "## Correlation\n",
    "Correlation is the raelationships between two or more variables (or features) of a dataset.<br>\n",
    "Each datapoint in the dataset is an **observation** and the **features** are the properties or attributes of those observations\n",
    "\n",
    "##### Forms of correlation\n",
    "\n",
    "1. **Negative correlation** <br>\n",
    "A relationship between two variables in which one variable increase as the other decreases and vice versa.<br>\n",
    "A perfect negative correlation is represented by the value -1.0 <br><br>\n",
    "\n",
    "2. **No/ Zero correlation** <br>\n",
    "There is no relationship between the two variables.<br> As one variable moves in one way, the other moves in an unrelated direction.<br><br>\n",
    "\n",
    "3. **Positive correlation** <br>\n",
    "A relationship between two variables that move in tandem - in the same direction. When one variable decreases, the other variable decreases, or one variable increases while the other increases. <br><br><br>\n",
    "\n",
    "\n",
    "**NB. Correlation does not indicate causation.** It quantifies the strength of the relationship between the features of a dataset. \n",
    "\n",
    "\n"
   ]
  },
  {
   "attachments": {},
   "cell_type": "markdown",
   "metadata": {},
   "source": [
    "#### Statistics to quantify correlation\n",
    "*Pearson's coefficient.*<br>\n",
    "It measures linear correlation. <br>\n",
    "\n",
    "*Spearman & Kendall coefficient* <br>\n",
    "Compare the ranks of data\n"
   ]
  },
  {
   "attachments": {},
   "cell_type": "markdown",
   "metadata": {},
   "source": [
    "### Numpy Correlation Calculation"
   ]
  },
  {
   "cell_type": "code",
   "execution_count": 8,
   "metadata": {},
   "outputs": [
    {
     "data": {
      "text/plain": [
       "array([10, 11, 12, 13, 14, 15, 16, 17, 18, 19])"
      ]
     },
     "execution_count": 8,
     "metadata": {},
     "output_type": "execute_result"
    }
   ],
   "source": [
    "import numpy as np\n",
    "x = np.arange (10,20) # create an array of integers between 10 (inclusive) and 20 (exclusive)\n",
    "x"
   ]
  },
  {
   "cell_type": "code",
   "execution_count": 10,
   "metadata": {},
   "outputs": [
    {
     "data": {
      "text/plain": [
       "array([ 2,  1,  4,  5,  8, 12, 18, 25, 96, 48])"
      ]
     },
     "execution_count": 10,
     "metadata": {},
     "output_type": "execute_result"
    }
   ],
   "source": [
    "y = np.array([2, 1, 4, 5, 8, 12, 18, 25, 96, 48])\n",
    "y"
   ]
  },
  {
   "cell_type": "code",
   "execution_count": 11,
   "metadata": {},
   "outputs": [
    {
     "data": {
      "text/plain": [
       "array([[1.        , 0.75864029],\n",
       "       [0.75864029, 1.        ]])"
      ]
     },
     "execution_count": 11,
     "metadata": {},
     "output_type": "execute_result"
    }
   ],
   "source": [
    "#Correlation Matrix\n",
    "#NB. Ensure that the two arrays are of the same length.\n",
    "r = np.corrcoef (x, y)\n",
    "r"
   ]
  },
  {
   "cell_type": "code",
   "execution_count": 12,
   "metadata": {},
   "outputs": [
    {
     "data": {
      "text/plain": [
       "0.7586402890911867"
      ]
     },
     "execution_count": 12,
     "metadata": {},
     "output_type": "execute_result"
    }
   ],
   "source": [
    "#correlation coefficient of x\n",
    "r[0,1]"
   ]
  },
  {
   "cell_type": "code",
   "execution_count": 13,
   "metadata": {},
   "outputs": [
    {
     "data": {
      "text/plain": [
       "0.7586402890911869"
      ]
     },
     "execution_count": 13,
     "metadata": {},
     "output_type": "execute_result"
    }
   ],
   "source": [
    "#correlation coefficient of y\n",
    "r[1,0]"
   ]
  },
  {
   "attachments": {},
   "cell_type": "markdown",
   "metadata": {},
   "source": [
    "The correlation coeffcients of x and y are equal. This represents the **Pearson correlation coefficient** for x and y. In this case approc=ximately 0.76"
   ]
  },
  {
   "attachments": {},
   "cell_type": "markdown",
   "metadata": {},
   "source": [
    "### Scipy Correlation Calculation"
   ]
  },
  {
   "cell_type": "code",
   "execution_count": 18,
   "metadata": {},
   "outputs": [
    {
     "data": {
      "text/plain": [
       "PearsonRResult(statistic=0.758640289091187, pvalue=0.010964341301680815)"
      ]
     },
     "execution_count": 18,
     "metadata": {},
     "output_type": "execute_result"
    }
   ],
   "source": [
    "import scipy.stats\n",
    "scipy.stats.pearsonr(x,y) # Pearson's r"
   ]
  },
  {
   "cell_type": "code",
   "execution_count": 19,
   "metadata": {},
   "outputs": [
    {
     "data": {
      "text/plain": [
       "SignificanceResult(statistic=0.9757575757575757, pvalue=1.4675461874042197e-06)"
      ]
     },
     "execution_count": 19,
     "metadata": {},
     "output_type": "execute_result"
    }
   ],
   "source": [
    "scipy.stats.spearmanr(x,y) # Spearman's rho"
   ]
  },
  {
   "cell_type": "code",
   "execution_count": 20,
   "metadata": {},
   "outputs": [
    {
     "data": {
      "text/plain": [
       "SignificanceResult(statistic=0.911111111111111, pvalue=2.9761904761904762e-05)"
      ]
     },
     "execution_count": 20,
     "metadata": {},
     "output_type": "execute_result"
    }
   ],
   "source": [
    "scipy.stats.kendalltau(x, y)  # Kendall's tau"
   ]
  },
  {
   "attachments": {},
   "cell_type": "markdown",
   "metadata": {},
   "source": [
    "There functions return objects that contain two values:<br>\n",
    "1. The correlation coefficient.<br>\n",
    "2. The p-value <br><br>\n",
    "\n",
    "You use the p-value in statistical methods when you’re testing a hypothesis. The p-value is an important measure that requires in-depth knowledge of probability and statistics to interpret.<br><br>\n"
   ]
  },
  {
   "attachments": {},
   "cell_type": "markdown",
   "metadata": {},
   "source": [
    "#### Heatmaps "
   ]
  },
  {
   "cell_type": "code",
   "execution_count": 5,
   "metadata": {},
   "outputs": [
    {
     "name": "stdout",
     "output_type": "stream",
     "text": [
      "               math score  reading score  writing score\n",
      "math score       1.000000       0.819398       0.805944\n",
      "reading score    0.819398       1.000000       0.954274\n",
      "writing score    0.805944       0.954274       1.000000\n"
     ]
    },
    {
     "data": {
      "image/png": "[encoded data removed]",
      "text/plain": [
       "<Figure size 640x480 with 2 Axes>"
      ]
     },
     "metadata": {},
     "output_type": "display_data"
    }
   ],
   "source": [
    "import matplotlib.pyplot as mp\n",
    "import seaborn as sns\n",
    "\n",
    "#import file with data\n",
    "import pandas as pd\n",
    "data = pd.read_csv('Data/exams.csv')\n",
    "\n",
    "'''\n",
    "prints data that will be plotted\n",
    "The columns shown here are selected by corr() since they are ideal for the plot\n",
    "\n",
    "'''\n",
    "\n",
    "print(data.corr(numeric_only = True))\n",
    "\n",
    "# plotting correlation heatmap\n",
    "dataplot = sns.heatmap(data.corr(numeric_only = True), cmap=\"YlGnBu\", annot=True)\n",
    "  \n",
    "# displaying heatmap\n",
    "mp.show()"
   ]
  },
  {
   "cell_type": "code",
   "execution_count": null,
   "metadata": {},
   "outputs": [],
   "source": []
  }
 ],
 "metadata": {
  "kernelspec": {
   "display_name": "Python 3",
   "language": "python",
   "name": "python3"
  },
  "language_info": {
   "codemirror_mode": {
    "name": "ipython",
    "version": 3
   },
   "file_extension": ".py",
   "mimetype": "text/x-python",
   "name": "python",
   "nbconvert_exporter": "python",
   "pygments_lexer": "ipython3",
   "version": "3.11.1"
  },
  "orig_nbformat": 4,
  "vscode": {
   "interpreter": {
    "hash": "78568aafcec68be6fd0a8e6a30cb46b09d7cdbdec305ef4fe85a8bf88b94d20b"
   }
  }
 },
 "nbformat": 4,
 "nbformat_minor": 2
}
